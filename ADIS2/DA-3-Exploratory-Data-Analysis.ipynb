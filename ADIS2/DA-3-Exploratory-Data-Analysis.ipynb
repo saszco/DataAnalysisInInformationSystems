{
 "cells": [
  {
   "cell_type": "markdown",
   "metadata": {
    "id": "K8f7NsILrXX0"
   },
   "source": [
    "# Пошуковий аналіз даних"
   ]
  },
  {
   "cell_type": "markdown",
   "metadata": {
    "id": "MyOywslOrXX4"
   },
   "source": [
    "<h2>Мета</h2>\n",
    "\n",
    "Ознайомитись з методами перевірки статистичних гіпотез. Після завершення цієї лабораторної роботи ви зможете:\n",
    "\n",
    "* Досліджувати дані за допомогою візуалізацій\n",
    "* Робити описовий аналіз\n",
    "* Групувати дані для аналізу\n",
    "* Знаходити зв'язок між ознаками\n",
    "* Перевіряти гіпотези про значущість коефіцієнта кореляції та про вигляд закону розподілу\n",
    "* Робити дисперсійний аналіз\n",
    "\n",
    "Приблизний час виконання: **60** хвилин\n"
   ]
  },
  {
   "cell_type": "markdown",
   "metadata": {
    "id": "uLPfOU8NrXX5"
   },
   "source": [
    "# <h2>Зміст</h2>\n",
    "\n",
    "<div class=\"alert alert-block alert-info\" style=\"margin-top: 20px\">\n",
    "<h3>Завдання для тренування</h3>\n",
    "<ul>\n",
    "    <li><a href=\"#pattern_visualization\">Дослідження ознак за допомогою візуалізацій</a></li>\n",
    "    <li><a href=\"#discriptive_statistics\">Описовий аналіз</a></li>\n",
    "    <li><a href=\"#basic_grouping\">Групування даних</a></li>\n",
    "    <li><a href=\"#correlation_causation\">Зв'язок між ознаками</a></li>\n",
    "    <li><a href=\"#anova\">Дисперсійний аналіз (ANOVA)</a></li>\n",
    "</ul>\n",
    "\n",
    "</div>\n",
    "\n",
    "<hr>"
   ]
  },
  {
   "cell_type": "markdown",
   "metadata": {
    "id": "AncHWGuMrXX5"
   },
   "source": [
    "<h2 id=\"import_data\">Імпорт даних</h2>\n"
   ]
  },
  {
   "cell_type": "markdown",
   "metadata": {
    "id": "2BVuyfQurXX5"
   },
   "source": [
    "Імпорт бібліотек:\n"
   ]
  },
  {
   "cell_type": "code",
   "execution_count": null,
   "metadata": {
    "id": "noUG9BBNrXX6"
   },
   "outputs": [],
   "source": [
    "#install specific version of libraries used in lab\n",
    "#! mamba install pandas==1.3.3\n",
    "#! mamba install numpy=1.21.2\n",
    "#! mamba install scipy=1.7.1-y\n",
    "#! mamba install seaborn=0.9.0-y"
   ]
  },
  {
   "cell_type": "code",
   "execution_count": 1,
   "metadata": {
    "id": "nLfzGMCwrXX7"
   },
   "outputs": [
    {
     "name": "stdout",
     "output_type": "stream",
     "text": [
      "Defaulting to user installation because normal site-packages is not writeable\n",
      "Requirement already satisfied: pandas in /Users/saszco/Library/Python/3.9/lib/python/site-packages (2.2.3)\n",
      "Requirement already satisfied: tzdata>=2022.7 in /Users/saszco/Library/Python/3.9/lib/python/site-packages (from pandas) (2025.1)\n",
      "Requirement already satisfied: python-dateutil>=2.8.2 in /Users/saszco/Library/Python/3.9/lib/python/site-packages (from pandas) (2.9.0.post0)\n",
      "Requirement already satisfied: pytz>=2020.1 in /Users/saszco/Library/Python/3.9/lib/python/site-packages (from pandas) (2025.1)\n",
      "Requirement already satisfied: numpy>=1.22.4 in /Users/saszco/Library/Python/3.9/lib/python/site-packages (from pandas) (2.0.2)\n",
      "Requirement already satisfied: six>=1.5 in /Applications/Xcode.app/Contents/Developer/Library/Frameworks/Python3.framework/Versions/3.9/lib/python3.9/site-packages (from python-dateutil>=2.8.2->pandas) (1.15.0)\n",
      "\u001b[33mWARNING: You are using pip version 21.2.4; however, version 25.0.1 is available.\n",
      "You should consider upgrading via the '/Applications/Xcode.app/Contents/Developer/usr/bin/python3 -m pip install --upgrade pip' command.\u001b[0m\n",
      "Note: you may need to restart the kernel to use updated packages.\n",
      "Defaulting to user installation because normal site-packages is not writeable\n",
      "Requirement already satisfied: numpy in /Users/saszco/Library/Python/3.9/lib/python/site-packages (2.0.2)\n",
      "\u001b[33mWARNING: You are using pip version 21.2.4; however, version 25.0.1 is available.\n",
      "You should consider upgrading via the '/Applications/Xcode.app/Contents/Developer/usr/bin/python3 -m pip install --upgrade pip' command.\u001b[0m\n",
      "Note: you may need to restart the kernel to use updated packages.\n"
     ]
    }
   ],
   "source": [
    "%pip install pandas\n",
    "%pip install numpy\n",
    "import pandas as pd\n",
    "import numpy as np"
   ]
  },
  {
   "cell_type": "markdown",
   "metadata": {
    "id": "2FuLSVl8rXX7"
   },
   "source": [
    "Завантаження даних в датафрейм \"df\" (скористайтесь файлом \"auto1.csv\", який ви зберегли в попередній роботі):\n"
   ]
  },
  {
   "cell_type": "code",
   "execution_count": null,
   "metadata": {
    "id": "7lSMbwKorXX8"
   },
   "outputs": [],
   "source": [
    "# Якщо використовуєте Google Colaboratory\n",
    "\n",
    "from google.colab import drive\n",
    "drive.mount('/content/drive')\n",
    "\n",
    "path = \"/content/drive/My Drive/auto1.csv\" # коренева папка вашого диску\n",
    "path = \"/content/drive/My Drive/data/auto1.csv\" # не коренева папка вашого диску"
   ]
  },
  {
   "cell_type": "code",
   "execution_count": 2,
   "metadata": {
    "id": "Ws3hlDb1N0LC"
   },
   "outputs": [],
   "source": [
    "# Якщо використовуєте Jupyter Notebook\n",
    "\n",
    "path = \"clean_data2.csv\""
   ]
  },
  {
   "cell_type": "code",
   "execution_count": null,
   "metadata": {
    "id": "Zc_MXP_bODWN"
   },
   "outputs": [],
   "source": [
    "# Якщо забули зберегти дані, то скористайтесь цим файлом (This dataset was hosted on IBM Cloud object)\n",
    "\n",
    "path='https://cf-courses-data.s3.us.cloud-object-storage.appdomain.cloud/IBMDeveloperSkillsNetwork-DA0101EN-SkillsNetwork/labs/Data%20files/automobileEDA.csv'"
   ]
  },
  {
   "cell_type": "code",
   "execution_count": 3,
   "metadata": {
    "id": "Yr-ZO_QLufxI"
   },
   "outputs": [
    {
     "data": {
      "text/html": [
       "<div>\n",
       "<style scoped>\n",
       "    .dataframe tbody tr th:only-of-type {\n",
       "        vertical-align: middle;\n",
       "    }\n",
       "\n",
       "    .dataframe tbody tr th {\n",
       "        vertical-align: top;\n",
       "    }\n",
       "\n",
       "    .dataframe thead th {\n",
       "        text-align: right;\n",
       "    }\n",
       "</style>\n",
       "<table border=\"1\" class=\"dataframe\">\n",
       "  <thead>\n",
       "    <tr style=\"text-align: right;\">\n",
       "      <th></th>\n",
       "      <th>Country Name</th>\n",
       "      <th>Region</th>\n",
       "      <th>GDP per capita</th>\n",
       "      <th>Population</th>\n",
       "      <th>CO2 emission</th>\n",
       "      <th>Area</th>\n",
       "      <th>Population Density</th>\n",
       "    </tr>\n",
       "  </thead>\n",
       "  <tbody>\n",
       "    <tr>\n",
       "      <th>0</th>\n",
       "      <td>Afghanistan</td>\n",
       "      <td>South Asia</td>\n",
       "      <td>561.778746</td>\n",
       "      <td>34656032.0</td>\n",
       "      <td>9809.225000</td>\n",
       "      <td>652860.0</td>\n",
       "      <td>53.083405</td>\n",
       "    </tr>\n",
       "    <tr>\n",
       "      <th>1</th>\n",
       "      <td>Albania</td>\n",
       "      <td>Europe &amp; Central Asia</td>\n",
       "      <td>4124.982390</td>\n",
       "      <td>2876101.0</td>\n",
       "      <td>5716.853000</td>\n",
       "      <td>28750.0</td>\n",
       "      <td>100.038296</td>\n",
       "    </tr>\n",
       "    <tr>\n",
       "      <th>2</th>\n",
       "      <td>Algeria</td>\n",
       "      <td>Middle East &amp; North Africa</td>\n",
       "      <td>3916.881571</td>\n",
       "      <td>40606052.0</td>\n",
       "      <td>145400.217000</td>\n",
       "      <td>2381740.0</td>\n",
       "      <td>17.048902</td>\n",
       "    </tr>\n",
       "    <tr>\n",
       "      <th>3</th>\n",
       "      <td>American Samoa</td>\n",
       "      <td>East Asia &amp; Pacific</td>\n",
       "      <td>11834.745230</td>\n",
       "      <td>55599.0</td>\n",
       "      <td>165114.116337</td>\n",
       "      <td>200.0</td>\n",
       "      <td>277.995000</td>\n",
       "    </tr>\n",
       "    <tr>\n",
       "      <th>4</th>\n",
       "      <td>Andorra</td>\n",
       "      <td>Europe &amp; Central Asia</td>\n",
       "      <td>36988.622030</td>\n",
       "      <td>77281.0</td>\n",
       "      <td>462.042000</td>\n",
       "      <td>470.0</td>\n",
       "      <td>164.427660</td>\n",
       "    </tr>\n",
       "  </tbody>\n",
       "</table>\n",
       "</div>"
      ],
      "text/plain": [
       "     Country Name                      Region  GDP per capita  Population  \\\n",
       "0     Afghanistan                  South Asia      561.778746  34656032.0   \n",
       "1         Albania       Europe & Central Asia     4124.982390   2876101.0   \n",
       "2         Algeria  Middle East & North Africa     3916.881571  40606052.0   \n",
       "3  American Samoa         East Asia & Pacific    11834.745230     55599.0   \n",
       "4         Andorra       Europe & Central Asia    36988.622030     77281.0   \n",
       "\n",
       "    CO2 emission       Area  Population Density  \n",
       "0    9809.225000   652860.0           53.083405  \n",
       "1    5716.853000    28750.0          100.038296  \n",
       "2  145400.217000  2381740.0           17.048902  \n",
       "3  165114.116337      200.0          277.995000  \n",
       "4     462.042000      470.0          164.427660  "
      ]
     },
     "execution_count": 3,
     "metadata": {},
     "output_type": "execute_result"
    }
   ],
   "source": [
    "df = pd.read_csv(path)\n",
    "df.head()"
   ]
  },
  {
   "cell_type": "markdown",
   "metadata": {
    "id": "tydJujFWrXX8"
   },
   "source": [
    "<a name=\"pattern_visualization\"></a>\n",
    "## <h2>Дослідження ознак за допомогою візуалізацій</h2>\n"
   ]
  },
  {
   "cell_type": "markdown",
   "metadata": {
    "id": "vsRQUbdRrXX8"
   },
   "source": [
    "Для інсталювання Seaborn використовуємо pip, Python package manager.\n"
   ]
  },
  {
   "cell_type": "markdown",
   "metadata": {
    "id": "efWNxh4GrXX8"
   },
   "source": [
    "Імпортуємо пакети для візуалізації \"Matplotlib\" та \"Seaborn\". Не забуваємо про <code>%matplotlib inline</code> для друку графіків в Jupyter notebook.\n"
   ]
  },
  {
   "cell_type": "code",
   "execution_count": null,
   "metadata": {
    "id": "OTbM2EaVrXX8"
   },
   "outputs": [],
   "source": [
    "%pip install matplotlib\n",
    "%pip install seaborn\n",
    "import matplotlib.pyplot as plt\n",
    "import seaborn as sns\n",
    "%matplotlib inline"
   ]
  },
  {
   "cell_type": "markdown",
   "metadata": {
    "id": "vpmhYFFWrXX9"
   },
   "source": [
    "<h4>Як вибрати правильний метод візуалізації?</h4>\n",
    "<p>Під час візуалізації окремих змінних важливо спочатку зрозуміти, з яким типом змінної ви маєте справу. Це допоможе нам знайти правильний метод візуалізації для цієї змінної.</p>\n"
   ]
  },
  {
   "cell_type": "code",
   "execution_count": 5,
   "metadata": {
    "id": "J7ERYsYOrXX9"
   },
   "outputs": [
    {
     "name": "stdout",
     "output_type": "stream",
     "text": [
      "Country Name           object\n",
      "Region                 object\n",
      "GDP per capita        float64\n",
      "Population            float64\n",
      "CO2 emission          float64\n",
      "Area                  float64\n",
      "Population Density    float64\n",
      "dtype: object\n"
     ]
    }
   ],
   "source": [
    "# переглянути типи даних для кожного стовпця\n",
    "print(df.dtypes)"
   ]
  },
  {
   "cell_type": "markdown",
   "metadata": {
    "id": "xd4KIYzKrXX9"
   },
   "source": [
    "<div class=\"alert alert-success alertsuccess\" style=\"margin-top: 20px\">\n",
    "<h2>Завдання  #1:</h2>\n",
    "\n",
    "<p>Який тип даних стовпця 'peak-rpm'? </p>\n",
    "</div>\n"
   ]
  },
  {
   "cell_type": "code",
   "execution_count": null,
   "metadata": {
    "id": "iozFsmYqrXX9"
   },
   "outputs": [],
   "source": [
    "# Напишіть ваш код нижче та натисніть Shift+Enter для виконання\n"
   ]
  },
  {
   "cell_type": "markdown",
   "metadata": {
    "id": "hpS652-urXX9"
   },
   "source": [
    "<details><summary>Натисніть тут, щоб побачити підказку</summary>\n",
    "\n",
    "```python    \n",
    "float64\n",
    "```\n",
    "\n",
    "</details>\n"
   ]
  },
  {
   "cell_type": "markdown",
   "metadata": {
    "id": "O-5IMui7rXX9"
   },
   "source": [
    "Наприклад, можна обчислити кореляцію між змінними типу \"int64\" або \"float64\" за допомогою методу <code>corr()</code>:\n"
   ]
  },
  {
   "cell_type": "code",
   "execution_count": 7,
   "metadata": {
    "id": "HBKe-NJUrXX-"
   },
   "outputs": [
    {
     "data": {
      "text/html": [
       "<div>\n",
       "<style scoped>\n",
       "    .dataframe tbody tr th:only-of-type {\n",
       "        vertical-align: middle;\n",
       "    }\n",
       "\n",
       "    .dataframe tbody tr th {\n",
       "        vertical-align: top;\n",
       "    }\n",
       "\n",
       "    .dataframe thead th {\n",
       "        text-align: right;\n",
       "    }\n",
       "</style>\n",
       "<table border=\"1\" class=\"dataframe\">\n",
       "  <thead>\n",
       "    <tr style=\"text-align: right;\">\n",
       "      <th></th>\n",
       "      <th>GDP per capita</th>\n",
       "      <th>Population</th>\n",
       "      <th>CO2 emission</th>\n",
       "      <th>Area</th>\n",
       "      <th>Population Density</th>\n",
       "    </tr>\n",
       "  </thead>\n",
       "  <tbody>\n",
       "    <tr>\n",
       "      <th>GDP per capita</th>\n",
       "      <td>1.000000</td>\n",
       "      <td>-0.047759</td>\n",
       "      <td>0.089094</td>\n",
       "      <td>0.063861</td>\n",
       "      <td>0.243174</td>\n",
       "    </tr>\n",
       "    <tr>\n",
       "      <th>Population</th>\n",
       "      <td>-0.047759</td>\n",
       "      <td>1.000000</td>\n",
       "      <td>0.802232</td>\n",
       "      <td>0.453500</td>\n",
       "      <td>-0.028449</td>\n",
       "    </tr>\n",
       "    <tr>\n",
       "      <th>CO2 emission</th>\n",
       "      <td>0.089094</td>\n",
       "      <td>0.802232</td>\n",
       "      <td>1.000000</td>\n",
       "      <td>0.585512</td>\n",
       "      <td>-0.017476</td>\n",
       "    </tr>\n",
       "    <tr>\n",
       "      <th>Area</th>\n",
       "      <td>0.063861</td>\n",
       "      <td>0.453500</td>\n",
       "      <td>0.585512</td>\n",
       "      <td>1.000000</td>\n",
       "      <td>-0.064138</td>\n",
       "    </tr>\n",
       "    <tr>\n",
       "      <th>Population Density</th>\n",
       "      <td>0.243174</td>\n",
       "      <td>-0.028449</td>\n",
       "      <td>-0.017476</td>\n",
       "      <td>-0.064138</td>\n",
       "      <td>1.000000</td>\n",
       "    </tr>\n",
       "  </tbody>\n",
       "</table>\n",
       "</div>"
      ],
      "text/plain": [
       "                    GDP per capita  Population  CO2 emission      Area  \\\n",
       "GDP per capita            1.000000   -0.047759      0.089094  0.063861   \n",
       "Population               -0.047759    1.000000      0.802232  0.453500   \n",
       "CO2 emission              0.089094    0.802232      1.000000  0.585512   \n",
       "Area                      0.063861    0.453500      0.585512  1.000000   \n",
       "Population Density        0.243174   -0.028449     -0.017476 -0.064138   \n",
       "\n",
       "                    Population Density  \n",
       "GDP per capita                0.243174  \n",
       "Population                   -0.028449  \n",
       "CO2 emission                 -0.017476  \n",
       "Area                         -0.064138  \n",
       "Population Density            1.000000  "
      ]
     },
     "execution_count": 7,
     "metadata": {},
     "output_type": "execute_result"
    }
   ],
   "source": [
    "df.corr(numeric_only=True)"
   ]
  },
  {
   "cell_type": "markdown",
   "metadata": {
    "id": "KSV1r-32rXX-"
   },
   "source": [
    "Діагональні елементи завжди дорівнюють одиниці; детальніше розглянемо кореляцію Пірсона в кінці зошита."
   ]
  },
  {
   "cell_type": "markdown",
   "metadata": {
    "id": "h5vwz5nBrXX-"
   },
   "source": [
    "<div class=\"alert alert-success alertsuccess\" style=\"margin-top: 20px\">\n",
    "<h2> Завдання  #2: </h2>\n",
    "\n",
    "<p>Знайдіть кореляцію між наступними ознаками: 'bore', 'stroke', 'compression-ratio' та 'horsepower'.</p>\n",
    "<p>Підказка: якщо ви хочете вибрати ці стовпці, використовуйте наступний синтаксис: df[['bore','stroke','compression-ratio','horsepower']]</p>\n",
    "</div>\n"
   ]
  },
  {
   "cell_type": "code",
   "execution_count": 8,
   "metadata": {
    "id": "y9m1VblNrXX-"
   },
   "outputs": [
    {
     "data": {
      "text/html": [
       "<div>\n",
       "<style scoped>\n",
       "    .dataframe tbody tr th:only-of-type {\n",
       "        vertical-align: middle;\n",
       "    }\n",
       "\n",
       "    .dataframe tbody tr th {\n",
       "        vertical-align: top;\n",
       "    }\n",
       "\n",
       "    .dataframe thead th {\n",
       "        text-align: right;\n",
       "    }\n",
       "</style>\n",
       "<table border=\"1\" class=\"dataframe\">\n",
       "  <thead>\n",
       "    <tr style=\"text-align: right;\">\n",
       "      <th></th>\n",
       "      <th>Population</th>\n",
       "      <th>Area</th>\n",
       "    </tr>\n",
       "  </thead>\n",
       "  <tbody>\n",
       "    <tr>\n",
       "      <th>Population</th>\n",
       "      <td>1.0000</td>\n",
       "      <td>0.4535</td>\n",
       "    </tr>\n",
       "    <tr>\n",
       "      <th>Area</th>\n",
       "      <td>0.4535</td>\n",
       "      <td>1.0000</td>\n",
       "    </tr>\n",
       "  </tbody>\n",
       "</table>\n",
       "</div>"
      ],
      "text/plain": [
       "            Population    Area\n",
       "Population      1.0000  0.4535\n",
       "Area            0.4535  1.0000"
      ]
     },
     "execution_count": 8,
     "metadata": {},
     "output_type": "execute_result"
    }
   ],
   "source": [
    "# Напишіть ваш код нижче та натисніть Shift+Enter для виконання\n",
    "df[['Population', 'Area']].corr()"
   ]
  },
  {
   "cell_type": "markdown",
   "metadata": {
    "id": "84FxmlnhrXX-"
   },
   "source": [
    "<details><summary>Натисніть тут, щоб побачити підказку</summary>\n",
    "\n",
    "```python\n",
    "df[['bore', 'stroke', 'compression-ratio', 'horsepower']].corr()\n",
    "```\n",
    "\n",
    "</details>\n"
   ]
  },
  {
   "cell_type": "markdown",
   "metadata": {
    "id": "BT6MmLsNrXX-"
   },
   "source": [
    "<h3>Кількісні змінні</h3>\n",
    "\n",
    "<p>Неперервні числові змінні - це змінні, які можуть містити будь-яке значення в певному діапазоні. Вони можуть бути типу \"int64\" або \"float64\". Чудовим способом візуалізації цих змінних є використання діаграм розсіювання з підігнаними лініями.</p>\n",
    "\n",
    "<p>Щоб почати розуміти (лінійний) зв’язок між окремою змінною та ціною, ми можемо використати <code>regplot()</code>, який будує діаграму розсіювання плюс підігнану лінію регресії для даних. Це також буде корисно пізніше для візуалізації відповідності моделі простої лінійної регресії. </p>\n"
   ]
  },
  {
   "cell_type": "markdown",
   "metadata": {
    "id": "R2RhH-KQrXX_"
   },
   "source": [
    "Давайте розглянемо кілька прикладів різних лінійних залежностей:\n"
   ]
  },
  {
   "cell_type": "markdown",
   "metadata": {
    "id": "-G4O0EjVrXX_"
   },
   "source": [
    "<h4>Позитивна лінійна залежність</h4>\n"
   ]
  },
  {
   "cell_type": "markdown",
   "metadata": {
    "id": "BOUqv6A2rXX_"
   },
   "source": [
    "Побудуємо діаграму розсіювання для 'engine-size' та 'price'.\n"
   ]
  },
  {
   "cell_type": "code",
   "execution_count": 25,
   "metadata": {
    "id": "Zf6jStNJrXX_",
    "scrolled": true
   },
   "outputs": [
    {
     "data": {
      "text/plain": [
       "(0.0, 10806782.23944748)"
      ]
     },
     "execution_count": 25,
     "metadata": {},
     "output_type": "execute_result"
    },
    {
     "data": {
      "image/png": "[encoded data removed]",
      "text/plain": [
       "<Figure size 1000x600 with 1 Axes>"
      ]
     },
     "metadata": {},
     "output_type": "display_data"
    }
   ],
   "source": [
    "# Engine size як потенційний предиктор для price\n",
    "plt.figure(figsize=(10, 6))\n",
    "sns.regplot(x='GDP per capita', y='CO2 emission', data=df)\n",
    "plt.ylim(0,)"
   ]
  },
  {
   "cell_type": "markdown",
   "metadata": {
    "id": "4xldTmLTrXX_"
   },
   "source": [
    "<p>Зі збільшенням об’єму двигуна зростає і ціна: це вказує на позитивну пряму кореляцію між цими двома ознаками. Розмір двигуна здається досить хорошим предиктором ціни, оскільки лінія регресії є майже ідеальною діагональною лінією.</p>\n"
   ]
  },
  {
   "cell_type": "code",
   "execution_count": null,
   "metadata": {},
   "outputs": [
    {
     "name": "stdout",
     "output_type": "stream",
     "text": [
      "Defaulting to user installation because normal site-packages is not writeable\n",
      "Requirement already satisfied: pandas in /Users/saszco/Library/Python/3.9/lib/python/site-packages (2.2.3)\n",
      "Requirement already satisfied: tzdata>=2022.7 in /Users/saszco/Library/Python/3.9/lib/python/site-packages (from pandas) (2025.1)\n",
      "Requirement already satisfied: python-dateutil>=2.8.2 in /Users/saszco/Library/Python/3.9/lib/python/site-packages (from pandas) (2.9.0.post0)\n",
      "Requirement already satisfied: pytz>=2020.1 in /Users/saszco/Library/Python/3.9/lib/python/site-packages (from pandas) (2025.1)\n",
      "Requirement already satisfied: numpy>=1.22.4 in /Users/saszco/Library/Python/3.9/lib/python/site-packages (from pandas) (2.0.2)\n",
      "Requirement already satisfied: six>=1.5 in /Applications/Xcode.app/Contents/Developer/Library/Frameworks/Python3.framework/Versions/3.9/lib/python3.9/site-packages (from python-dateutil>=2.8.2->pandas) (1.15.0)\n",
      "\u001b[33mWARNING: You are using pip version 21.2.4; however, version 25.0.1 is available.\n",
      "You should consider upgrading via the '/Applications/Xcode.app/Contents/Developer/usr/bin/python3 -m pip install --upgrade pip' command.\u001b[0m\n",
      "Note: you may need to restart the kernel to use updated packages.\n",
      "Defaulting to user installation because normal site-packages is not writeable\n",
      "Requirement already satisfied: numpy in /Users/saszco/Library/Python/3.9/lib/python/site-packages (2.0.2)\n",
      "\u001b[33mWARNING: You are using pip version 21.2.4; however, version 25.0.1 is available.\n",
      "You should consider upgrading via the '/Applications/Xcode.app/Contents/Developer/usr/bin/python3 -m pip install --upgrade pip' command.\u001b[0m\n",
      "Note: you may need to restart the kernel to use updated packages.\n"
     ]
    }
   ],
   "source": [
    "%pip install pandas\n",
    "%pip install numpy\n",
    "import pandas as pd\n",
    "import numpy as np"
   ]
  },
  {
   "cell_type": "markdown",
   "metadata": {
    "id": "QwZrDUaIrXYA"
   },
   "source": [
    " Можемо перевірити кореляцію між 'engine-size' та 'price' і побачити, що вона приблизно 0.87.\n"
   ]
  },
  {
   "cell_type": "code",
   "execution_count": 23,
   "metadata": {
    "id": "9Lk98y9SrXYA"
   },
   "outputs": [
    {
     "data": {
      "text/html": [
       "<div>\n",
       "<style scoped>\n",
       "    .dataframe tbody tr th:only-of-type {\n",
       "        vertical-align: middle;\n",
       "    }\n",
       "\n",
       "    .dataframe tbody tr th {\n",
       "        vertical-align: top;\n",
       "    }\n",
       "\n",
       "    .dataframe thead th {\n",
       "        text-align: right;\n",
       "    }\n",
       "</style>\n",
       "<table border=\"1\" class=\"dataframe\">\n",
       "  <thead>\n",
       "    <tr style=\"text-align: right;\">\n",
       "      <th></th>\n",
       "      <th>Population</th>\n",
       "      <th>CO2 emission</th>\n",
       "    </tr>\n",
       "  </thead>\n",
       "  <tbody>\n",
       "    <tr>\n",
       "      <th>Population</th>\n",
       "      <td>1.000000</td>\n",
       "      <td>0.802232</td>\n",
       "    </tr>\n",
       "    <tr>\n",
       "      <th>CO2 emission</th>\n",
       "      <td>0.802232</td>\n",
       "      <td>1.000000</td>\n",
       "    </tr>\n",
       "  </tbody>\n",
       "</table>\n",
       "</div>"
      ],
      "text/plain": [
       "              Population  CO2 emission\n",
       "Population      1.000000      0.802232\n",
       "CO2 emission    0.802232      1.000000"
      ]
     },
     "execution_count": 23,
     "metadata": {},
     "output_type": "execute_result"
    }
   ],
   "source": [
    "df[['Population', 'CO2 emission']].corr()"
   ]
  },
  {
   "cell_type": "markdown",
   "metadata": {
    "id": "ibdzhGzqrXYA"
   },
   "source": [
    "<h4>Негативна лінійна залежність</h4>\n"
   ]
  },
  {
   "cell_type": "markdown",
   "metadata": {
    "id": "JBUJ24o2rXYA"
   },
   "source": [
    "'City-mpg' потенційний предиктор ознаки 'price'. Побудуємо діаграму розсіювання для 'city-mpg' та 'price'.\n"
   ]
  },
  {
   "cell_type": "code",
   "execution_count": 29,
   "metadata": {
    "id": "ZAsQrTe3rXYA"
   },
   "outputs": [
    {
     "data": {
      "text/plain": [
       "<Axes: xlabel='Area', ylabel='Population Density'>"
      ]
     },
     "execution_count": 29,
     "metadata": {},
     "output_type": "execute_result"
    },
    {
     "data": {
      "image/png": "[encoded data removed]",
      "text/plain": [
       "<Figure size 640x480 with 1 Axes>"
      ]
     },
     "metadata": {},
     "output_type": "display_data"
    }
   ],
   "source": [
    "sns.regplot(x='Area', y='Population Density', data=df)"
   ]
  },
  {
   "cell_type": "markdown",
   "metadata": {
    "id": "NiJgtKuurXYA"
   },
   "source": [
    "<p>У міру зростання 'city-mpg' ціна падає: це вказує на зворотний/негативний зв’язок між цими двома ознаками. 'City-mpg' потенційно може бути предиктором 'price'.</p>\n"
   ]
  },
  {
   "cell_type": "markdown",
   "metadata": {
    "id": "9y84RqzjrXYB"
   },
   "source": [
    "Можемо перевірити кореляцію між 'city-mpg' та 'price' і побачити, що вона приблизно -0.687.\n"
   ]
  },
  {
   "cell_type": "code",
   "execution_count": 30,
   "metadata": {
    "id": "1mND28n7rXYB"
   },
   "outputs": [
    {
     "data": {
      "text/html": [
       "<div>\n",
       "<style scoped>\n",
       "    .dataframe tbody tr th:only-of-type {\n",
       "        vertical-align: middle;\n",
       "    }\n",
       "\n",
       "    .dataframe tbody tr th {\n",
       "        vertical-align: top;\n",
       "    }\n",
       "\n",
       "    .dataframe thead th {\n",
       "        text-align: right;\n",
       "    }\n",
       "</style>\n",
       "<table border=\"1\" class=\"dataframe\">\n",
       "  <thead>\n",
       "    <tr style=\"text-align: right;\">\n",
       "      <th></th>\n",
       "      <th>Area</th>\n",
       "      <th>Population Density</th>\n",
       "    </tr>\n",
       "  </thead>\n",
       "  <tbody>\n",
       "    <tr>\n",
       "      <th>Area</th>\n",
       "      <td>1.000000</td>\n",
       "      <td>-0.064138</td>\n",
       "    </tr>\n",
       "    <tr>\n",
       "      <th>Population Density</th>\n",
       "      <td>-0.064138</td>\n",
       "      <td>1.000000</td>\n",
       "    </tr>\n",
       "  </tbody>\n",
       "</table>\n",
       "</div>"
      ],
      "text/plain": [
       "                        Area  Population Density\n",
       "Area                1.000000           -0.064138\n",
       "Population Density -0.064138            1.000000"
      ]
     },
     "execution_count": 30,
     "metadata": {},
     "output_type": "execute_result"
    }
   ],
   "source": [
    "df[['Area', 'Population Density']].corr()"
   ]
  },
  {
   "cell_type": "markdown",
   "metadata": {
    "id": "n0kaXgq0rXYB"
   },
   "source": [
    "<h4>Слабка лінійна залежність</h4>\n"
   ]
  },
  {
   "cell_type": "markdown",
   "metadata": {
    "id": "qgVxvfb-rXYF"
   },
   "source": [
    "Перевіримо, чи є 'peak-rpm' потенційним предиктором ознаки 'price'.\n"
   ]
  },
  {
   "cell_type": "code",
   "execution_count": null,
   "metadata": {
    "id": "_iAkiPXnrXYF"
   },
   "outputs": [],
   "source": [
    "sns.regplot(x='peak-rpm', y='price', data=df)"
   ]
  },
  {
   "cell_type": "markdown",
   "metadata": {
    "id": "v3IkiiWyrXYG"
   },
   "source": [
    "<p>Пікова кількість обертів на хвилину взагалі не здається хорошим предиктором ціни, оскільки лінія регресії близька до горизонтальної. Крім того, точки даних дуже розкидані та далекі від підігнаної лінії, демонструючи велику варіабельність. Тому це не релевантна змінна.</p>\n"
   ]
  },
  {
   "cell_type": "markdown",
   "metadata": {
    "id": "GJmkucnWrXYG"
   },
   "source": [
    "Можемо перевірити кореляцію між 'peak-rpm' та 'price' і побачити, що вона приблизно -0.101616.\n"
   ]
  },
  {
   "cell_type": "code",
   "execution_count": null,
   "metadata": {
    "id": "41mzb7_CrXYG"
   },
   "outputs": [],
   "source": [
    "df[['peak-rpm','price']].corr()"
   ]
  },
  {
   "cell_type": "markdown",
   "metadata": {
    "id": "UWLaeWtGrXYG"
   },
   "source": [
    " <div class=\"alert alert-success alertsuccess\" style=\"margin-top: 20px\">\n",
    "<h2> Завдання  3 a): </h2>\n",
    "\n",
    "<p>Знайдіть кореляцію між x='stroke' та y='price'.</p>\n",
    "<p>Підказка: якщо хочете вибрати ці стовпці, використовуйте наступний синтаксис: df[['stroke','price']].  </p>\n",
    "</div>\n"
   ]
  },
  {
   "cell_type": "code",
   "execution_count": null,
   "metadata": {
    "id": "M5z28fWqrXYG"
   },
   "outputs": [],
   "source": [
    "# Напишіть ваш код нижче та натисніть Shift+Enter для виконання\n"
   ]
  },
  {
   "cell_type": "markdown",
   "metadata": {
    "id": "6wO2iaARrXYH"
   },
   "source": [
    "<details><summary>Натисніть тут, щоб побачити підказку</summary>\n",
    "\n",
    "```python\n",
    "\n",
    "#Кореляція 0.0823, недіагональні елементи таблиці.\n",
    "\n",
    "df[[\"stroke\",\"price\"]].corr()\n",
    "\n",
    "```\n",
    "\n",
    "</details>\n"
   ]
  },
  {
   "cell_type": "markdown",
   "metadata": {
    "id": "AIN2FfA4rXYH"
   },
   "source": [
    "<div class=\"alert alert-success alertsuccess\" style=\"margin-top: 20px\">\n",
    "<h2>Завдання  3 b):</h2>\n",
    "\n",
    "<p>Враховуючи результати кореляції між 'price' та 'stroke', ви очікуєте лінійного зв'язку?</p>\n",
    "<p>Перевірте свої результати за допомогою функції \"regplot()\".</p>\n",
    "</div>\n"
   ]
  },
  {
   "cell_type": "code",
   "execution_count": null,
   "metadata": {
    "id": "kqQ2UKoerXYH"
   },
   "outputs": [],
   "source": [
    "# Напишіть ваш код нижче та натисніть Shift+Enter для виконання\n"
   ]
  },
  {
   "cell_type": "markdown",
   "metadata": {
    "id": "MVpirTq_rXYH"
   },
   "source": [
    "<details><summary>Натисніть тут, щоб побачити підказку</summary>\n",
    "\n",
    "```python\n",
    "\n",
    "#Існує слабка кореляція між змінними 'stroke' і 'price'. Така регресія не працюватиме добре. Можемо побачити це за допомогою \"regplot\".\n",
    "\n",
    "#Код:\n",
    "sns.regplot(x=\"stroke\", y=\"price\", data=df)\n",
    "\n",
    "```\n",
    "\n",
    "</details>\n"
   ]
  },
  {
   "cell_type": "markdown",
   "metadata": {
    "id": "pY_ktt9_rXYH"
   },
   "source": [
    "<h3>Якісні змінні</h3>\n",
    "\n",
    "<p>Якісні (категоріальні) змінні - це змінні, які описують «характеристику» одиниці даних і вибираються з невеликої групи категорій. Категоріальні змінні можуть мати тип \"object\" або \"int64\". Хорошим способом візуалізації категоріальних змінних є використання діаграм розмаху.</p>\n"
   ]
  },
  {
   "cell_type": "markdown",
   "metadata": {
    "id": "9sP_unUlrXYI"
   },
   "source": [
    "Розглянемо зв'язок між 'body-style' та 'price'.\n"
   ]
  },
  {
   "cell_type": "code",
   "execution_count": 32,
   "metadata": {
    "id": "YpDGOUn9rXYI",
    "scrolled": true
   },
   "outputs": [
    {
     "data": {
      "text/plain": [
       "<Axes: xlabel='Region', ylabel='CO2 emission'>"
      ]
     },
     "execution_count": 32,
     "metadata": {},
     "output_type": "execute_result"
    },
    {
     "data": {
      "image/png": "[encoded data removed]",
      "text/plain": [
       "<Figure size 1500x1000 with 1 Axes>"
      ]
     },
     "metadata": {},
     "output_type": "display_data"
    }
   ],
   "source": [
    "plt.figure(figsize=(15, 10))\n",
    "sns.boxplot(x='Region', y='CO2 emission', data=df)"
   ]
  },
  {
   "cell_type": "markdown",
   "metadata": {
    "id": "ixfmzzSKrXYI"
   },
   "source": [
    "<p>Бачимо, що розподіл ціни між різними категоріями стилю кузова значно збігається, тому тип кузова не буде хорошим показником ціни. Розглянемо 'engine-location' та 'price':</p>\n"
   ]
  },
  {
   "cell_type": "code",
   "execution_count": null,
   "metadata": {
    "id": "PbJSneeurXYI",
    "scrolled": true
   },
   "outputs": [],
   "source": [
    "sns.boxplot(x='engine-location', y='price', data=df)"
   ]
  },
  {
   "cell_type": "markdown",
   "metadata": {
    "id": "1hA4yNvyrXYJ"
   },
   "source": [
    "<p>Тут бачимо, що розподіл ціни між цими двома категоріями розташування двигуна, передньою та задньою, є достатньо чітким, щоб вважати розташування двигуна потенційно хорошим предиктором ціни.</p>\n"
   ]
  },
  {
   "cell_type": "markdown",
   "metadata": {
    "id": "MkWfmCvurXYJ"
   },
   "source": [
    " Розглянемо 'drive-wheels' та 'price'.\n"
   ]
  },
  {
   "cell_type": "code",
   "execution_count": null,
   "metadata": {
    "id": "YaqZn9aarXYK"
   },
   "outputs": [],
   "source": [
    "sns.boxplot(x='drive-wheels', y='price', data=df)"
   ]
  },
  {
   "cell_type": "markdown",
   "metadata": {
    "id": "JemEfmwErXYK"
   },
   "source": [
    "<p>Тут бачимо, що розподіл ціни між різними категоріями приводних коліс відрізняється. Таким чином, тип приводу потенційно може бути предиктором ціни.</p>\n"
   ]
  },
  {
   "cell_type": "markdown",
   "metadata": {
    "id": "CKl708QUrXYK"
   },
   "source": [
    "<a name=\"discriptive_statistics\"></a>\n",
    "## <h2>Описовий аналіз</h2>\n"
   ]
  },
  {
   "cell_type": "markdown",
   "metadata": {
    "id": "6afHAnC8rXYL"
   },
   "source": [
    "<p>Давайте спочатку подивимося на змінні, використовуючи метод опису.</p>\n",
    "\n",
    "<p>Метод <b>describe</b>  автоматично обчислює основну статистику для всіх кількісних змінних. Будь-які значення NaN автоматично пропускаються в цій статистиці.</p>\n",
    "\n",
    "Це покаже:\n",
    "<ul>\n",
    "    <li>кількість значень цієї змінної</li>\n",
    "    <li>середнє значення</li>\n",
    "    <li>стандартне відхилення (std)</li>\n",
    "    <li>мінімальне значення</li>\n",
    "    <li>міжквартильний розмах IQR (Interquartile Range: 25%, 50% та 75%)</li>\n",
    "    <li>максимальне значення</li>\n",
    "<ul>\n"
   ]
  },
  {
   "cell_type": "markdown",
   "metadata": {
    "id": "xGQakEObrXYL"
   },
   "source": [
    " Можемо застосувати метод \"describe\" наступним чином:\n"
   ]
  },
  {
   "cell_type": "code",
   "execution_count": 37,
   "metadata": {
    "id": "roIsST7xrXYL"
   },
   "outputs": [
    {
     "data": {
      "text/html": [
       "<div>\n",
       "<style scoped>\n",
       "    .dataframe tbody tr th:only-of-type {\n",
       "        vertical-align: middle;\n",
       "    }\n",
       "\n",
       "    .dataframe tbody tr th {\n",
       "        vertical-align: top;\n",
       "    }\n",
       "\n",
       "    .dataframe thead th {\n",
       "        text-align: right;\n",
       "    }\n",
       "</style>\n",
       "<table border=\"1\" class=\"dataframe\">\n",
       "  <thead>\n",
       "    <tr style=\"text-align: right;\">\n",
       "      <th></th>\n",
       "      <th>Country Name</th>\n",
       "      <th>Region</th>\n",
       "      <th>GDP per capita</th>\n",
       "      <th>Population</th>\n",
       "      <th>CO2 emission</th>\n",
       "      <th>Area</th>\n",
       "      <th>Population Density</th>\n",
       "    </tr>\n",
       "  </thead>\n",
       "  <tbody>\n",
       "    <tr>\n",
       "      <th>count</th>\n",
       "      <td>217</td>\n",
       "      <td>217</td>\n",
       "      <td>217.000000</td>\n",
       "      <td>2.170000e+02</td>\n",
       "      <td>2.170000e+02</td>\n",
       "      <td>2.170000e+02</td>\n",
       "      <td>217.000000</td>\n",
       "    </tr>\n",
       "    <tr>\n",
       "      <th>unique</th>\n",
       "      <td>217</td>\n",
       "      <td>7</td>\n",
       "      <td>NaN</td>\n",
       "      <td>NaN</td>\n",
       "      <td>NaN</td>\n",
       "      <td>NaN</td>\n",
       "      <td>NaN</td>\n",
       "    </tr>\n",
       "    <tr>\n",
       "      <th>top</th>\n",
       "      <td>Afghanistan</td>\n",
       "      <td>Europe &amp; Central Asia</td>\n",
       "      <td>NaN</td>\n",
       "      <td>NaN</td>\n",
       "      <td>NaN</td>\n",
       "      <td>NaN</td>\n",
       "      <td>NaN</td>\n",
       "    </tr>\n",
       "    <tr>\n",
       "      <th>freq</th>\n",
       "      <td>1</td>\n",
       "      <td>58</td>\n",
       "      <td>NaN</td>\n",
       "      <td>NaN</td>\n",
       "      <td>NaN</td>\n",
       "      <td>NaN</td>\n",
       "      <td>NaN</td>\n",
       "    </tr>\n",
       "    <tr>\n",
       "      <th>mean</th>\n",
       "      <td>NaN</td>\n",
       "      <td>NaN</td>\n",
       "      <td>13445.593416</td>\n",
       "      <td>3.432256e+07</td>\n",
       "      <td>1.651141e+05</td>\n",
       "      <td>6.188441e+05</td>\n",
       "      <td>435.008979</td>\n",
       "    </tr>\n",
       "    <tr>\n",
       "      <th>std</th>\n",
       "      <td>NaN</td>\n",
       "      <td>NaN</td>\n",
       "      <td>16873.922101</td>\n",
       "      <td>1.344477e+08</td>\n",
       "      <td>8.100511e+05</td>\n",
       "      <td>1.827830e+06</td>\n",
       "      <td>2012.796220</td>\n",
       "    </tr>\n",
       "    <tr>\n",
       "      <th>min</th>\n",
       "      <td>NaN</td>\n",
       "      <td>NaN</td>\n",
       "      <td>285.727442</td>\n",
       "      <td>1.109700e+04</td>\n",
       "      <td>1.100100e+01</td>\n",
       "      <td>2.000000e+00</td>\n",
       "      <td>0.136889</td>\n",
       "    </tr>\n",
       "    <tr>\n",
       "      <th>25%</th>\n",
       "      <td>NaN</td>\n",
       "      <td>NaN</td>\n",
       "      <td>2361.160205</td>\n",
       "      <td>7.956010e+05</td>\n",
       "      <td>1.954511e+03</td>\n",
       "      <td>1.088700e+04</td>\n",
       "      <td>36.064795</td>\n",
       "    </tr>\n",
       "    <tr>\n",
       "      <th>50%</th>\n",
       "      <td>NaN</td>\n",
       "      <td>NaN</td>\n",
       "      <td>7179.340661</td>\n",
       "      <td>6.293253e+06</td>\n",
       "      <td>1.156205e+04</td>\n",
       "      <td>9.303000e+04</td>\n",
       "      <td>92.731319</td>\n",
       "    </tr>\n",
       "    <tr>\n",
       "      <th>75%</th>\n",
       "      <td>NaN</td>\n",
       "      <td>NaN</td>\n",
       "      <td>14428.140260</td>\n",
       "      <td>2.369592e+07</td>\n",
       "      <td>8.256251e+04</td>\n",
       "      <td>4.474200e+05</td>\n",
       "      <td>225.085714</td>\n",
       "    </tr>\n",
       "    <tr>\n",
       "      <th>max</th>\n",
       "      <td>NaN</td>\n",
       "      <td>NaN</td>\n",
       "      <td>100738.684200</td>\n",
       "      <td>1.378665e+09</td>\n",
       "      <td>1.029193e+07</td>\n",
       "      <td>1.709825e+07</td>\n",
       "      <td>20203.531353</td>\n",
       "    </tr>\n",
       "  </tbody>\n",
       "</table>\n",
       "</div>"
      ],
      "text/plain": [
       "       Country Name                 Region  GDP per capita    Population  \\\n",
       "count           217                    217      217.000000  2.170000e+02   \n",
       "unique          217                      7             NaN           NaN   \n",
       "top     Afghanistan  Europe & Central Asia             NaN           NaN   \n",
       "freq              1                     58             NaN           NaN   \n",
       "mean            NaN                    NaN    13445.593416  3.432256e+07   \n",
       "std             NaN                    NaN    16873.922101  1.344477e+08   \n",
       "min             NaN                    NaN      285.727442  1.109700e+04   \n",
       "25%             NaN                    NaN     2361.160205  7.956010e+05   \n",
       "50%             NaN                    NaN     7179.340661  6.293253e+06   \n",
       "75%             NaN                    NaN    14428.140260  2.369592e+07   \n",
       "max             NaN                    NaN   100738.684200  1.378665e+09   \n",
       "\n",
       "        CO2 emission          Area  Population Density  \n",
       "count   2.170000e+02  2.170000e+02          217.000000  \n",
       "unique           NaN           NaN                 NaN  \n",
       "top              NaN           NaN                 NaN  \n",
       "freq             NaN           NaN                 NaN  \n",
       "mean    1.651141e+05  6.188441e+05          435.008979  \n",
       "std     8.100511e+05  1.827830e+06         2012.796220  \n",
       "min     1.100100e+01  2.000000e+00            0.136889  \n",
       "25%     1.954511e+03  1.088700e+04           36.064795  \n",
       "50%     1.156205e+04  9.303000e+04           92.731319  \n",
       "75%     8.256251e+04  4.474200e+05          225.085714  \n",
       "max     1.029193e+07  1.709825e+07        20203.531353  "
      ]
     },
     "execution_count": 37,
     "metadata": {},
     "output_type": "execute_result"
    }
   ],
   "source": [
    "df.describe(include='all')"
   ]
  },
  {
   "cell_type": "markdown",
   "metadata": {
    "id": "l8d3WqOzrXYM"
   },
   "source": [
    "Налаштування за замовчуванням методу <code>describe()</code> таке, що він пропускає змінні типу \"object\". Ми можемо застосувати метод <code>describe()</code> до змінних типу \"object\" наступним чином:"
   ]
  },
  {
   "cell_type": "code",
   "execution_count": null,
   "metadata": {
    "id": "R_WsDF7brXYM",
    "scrolled": true
   },
   "outputs": [],
   "source": [
    "df.describe(include=['object'])"
   ]
  },
  {
   "cell_type": "markdown",
   "metadata": {
    "id": "ZVRNia08rXYM"
   },
   "source": [
    "<h3>Підрахунок значень</h3>\n"
   ]
  },
  {
   "cell_type": "markdown",
   "metadata": {
    "id": "enZERfwbrXYN"
   },
   "source": [
    "<p>Підрахунок значень є хорошим способом зрозуміти, скільки одиниць кожної ознаки/змінної маємо. Можемо застосувати метод <code>value_counts()</code> до стовпця 'drive-wheels'. Не забувайте, що метод <code>value_counts()</code> працює лише на серіях pandas, а не на датафреймах, тому включаємо лише одну дужку<code>df['drive-wheels']</code>, а не дві <code>df[['drive-wheels']]</code>.</p>\n"
   ]
  },
  {
   "cell_type": "code",
   "execution_count": 39,
   "metadata": {
    "id": "GZUQKtmnrXYN"
   },
   "outputs": [
    {
     "data": {
      "text/plain": [
       "Region\n",
       "Europe & Central Asia         58\n",
       "Sub-Saharan Africa            48\n",
       "Latin America & Caribbean     42\n",
       "East Asia & Pacific           37\n",
       "Middle East & North Africa    21\n",
       "South Asia                     8\n",
       "North America                  3\n",
       "Name: count, dtype: int64"
      ]
     },
     "execution_count": 39,
     "metadata": {},
     "output_type": "execute_result"
    }
   ],
   "source": [
    "df['Region'].value_counts()"
   ]
  },
  {
   "cell_type": "markdown",
   "metadata": {
    "id": "aoKaWSk2rXYN"
   },
   "source": [
    "Можемо перетворити серію на датафрейм наступним чином:"
   ]
  },
  {
   "cell_type": "code",
   "execution_count": 40,
   "metadata": {
    "id": "Rl2QfpNqrXYN"
   },
   "outputs": [
    {
     "data": {
      "text/html": [
       "<div>\n",
       "<style scoped>\n",
       "    .dataframe tbody tr th:only-of-type {\n",
       "        vertical-align: middle;\n",
       "    }\n",
       "\n",
       "    .dataframe tbody tr th {\n",
       "        vertical-align: top;\n",
       "    }\n",
       "\n",
       "    .dataframe thead th {\n",
       "        text-align: right;\n",
       "    }\n",
       "</style>\n",
       "<table border=\"1\" class=\"dataframe\">\n",
       "  <thead>\n",
       "    <tr style=\"text-align: right;\">\n",
       "      <th></th>\n",
       "      <th>count</th>\n",
       "    </tr>\n",
       "    <tr>\n",
       "      <th>Region</th>\n",
       "      <th></th>\n",
       "    </tr>\n",
       "  </thead>\n",
       "  <tbody>\n",
       "    <tr>\n",
       "      <th>Europe &amp; Central Asia</th>\n",
       "      <td>58</td>\n",
       "    </tr>\n",
       "    <tr>\n",
       "      <th>Sub-Saharan Africa</th>\n",
       "      <td>48</td>\n",
       "    </tr>\n",
       "    <tr>\n",
       "      <th>Latin America &amp; Caribbean</th>\n",
       "      <td>42</td>\n",
       "    </tr>\n",
       "    <tr>\n",
       "      <th>East Asia &amp; Pacific</th>\n",
       "      <td>37</td>\n",
       "    </tr>\n",
       "    <tr>\n",
       "      <th>Middle East &amp; North Africa</th>\n",
       "      <td>21</td>\n",
       "    </tr>\n",
       "    <tr>\n",
       "      <th>South Asia</th>\n",
       "      <td>8</td>\n",
       "    </tr>\n",
       "    <tr>\n",
       "      <th>North America</th>\n",
       "      <td>3</td>\n",
       "    </tr>\n",
       "  </tbody>\n",
       "</table>\n",
       "</div>"
      ],
      "text/plain": [
       "                            count\n",
       "Region                           \n",
       "Europe & Central Asia          58\n",
       "Sub-Saharan Africa             48\n",
       "Latin America & Caribbean      42\n",
       "East Asia & Pacific            37\n",
       "Middle East & North Africa     21\n",
       "South Asia                      8\n",
       "North America                   3"
      ]
     },
     "execution_count": 40,
     "metadata": {},
     "output_type": "execute_result"
    }
   ],
   "source": [
    "df['Region'].value_counts().to_frame()"
   ]
  },
  {
   "cell_type": "markdown",
   "metadata": {
    "id": "CqaVhsYprXYO"
   },
   "source": [
    "Давайте повторимо наведені вище кроки, але збережемо результати у датафреймі \"drive_wheels_counts\" і перейменуємо стовпець 'drive-wheels' на 'value_counts'.\n"
   ]
  },
  {
   "cell_type": "code",
   "execution_count": 41,
   "metadata": {
    "id": "_k0F8FcWrXYO"
   },
   "outputs": [
    {
     "data": {
      "text/html": [
       "<div>\n",
       "<style scoped>\n",
       "    .dataframe tbody tr th:only-of-type {\n",
       "        vertical-align: middle;\n",
       "    }\n",
       "\n",
       "    .dataframe tbody tr th {\n",
       "        vertical-align: top;\n",
       "    }\n",
       "\n",
       "    .dataframe thead th {\n",
       "        text-align: right;\n",
       "    }\n",
       "</style>\n",
       "<table border=\"1\" class=\"dataframe\">\n",
       "  <thead>\n",
       "    <tr style=\"text-align: right;\">\n",
       "      <th></th>\n",
       "      <th>count</th>\n",
       "    </tr>\n",
       "    <tr>\n",
       "      <th>Region</th>\n",
       "      <th></th>\n",
       "    </tr>\n",
       "  </thead>\n",
       "  <tbody>\n",
       "    <tr>\n",
       "      <th>Europe &amp; Central Asia</th>\n",
       "      <td>58</td>\n",
       "    </tr>\n",
       "    <tr>\n",
       "      <th>Sub-Saharan Africa</th>\n",
       "      <td>48</td>\n",
       "    </tr>\n",
       "    <tr>\n",
       "      <th>Latin America &amp; Caribbean</th>\n",
       "      <td>42</td>\n",
       "    </tr>\n",
       "    <tr>\n",
       "      <th>East Asia &amp; Pacific</th>\n",
       "      <td>37</td>\n",
       "    </tr>\n",
       "    <tr>\n",
       "      <th>Middle East &amp; North Africa</th>\n",
       "      <td>21</td>\n",
       "    </tr>\n",
       "    <tr>\n",
       "      <th>South Asia</th>\n",
       "      <td>8</td>\n",
       "    </tr>\n",
       "    <tr>\n",
       "      <th>North America</th>\n",
       "      <td>3</td>\n",
       "    </tr>\n",
       "  </tbody>\n",
       "</table>\n",
       "</div>"
      ],
      "text/plain": [
       "                            count\n",
       "Region                           \n",
       "Europe & Central Asia          58\n",
       "Sub-Saharan Africa             48\n",
       "Latin America & Caribbean      42\n",
       "East Asia & Pacific            37\n",
       "Middle East & North Africa     21\n",
       "South Asia                      8\n",
       "North America                   3"
      ]
     },
     "execution_count": 41,
     "metadata": {},
     "output_type": "execute_result"
    }
   ],
   "source": [
    "region_counts = df['Region'].value_counts().to_frame()\n",
    "region_counts.rename(columns={'Region': 'value_counts'}, inplace=True)\n",
    "region_counts"
   ]
  },
  {
   "cell_type": "markdown",
   "metadata": {
    "id": "CxdR50fUrXYP"
   },
   "source": [
    "Тепер перейменуємо індекс на 'drive-wheels':"
   ]
  },
  {
   "cell_type": "code",
   "execution_count": 43,
   "metadata": {
    "id": "Nm-WcO8WrXYP"
   },
   "outputs": [
    {
     "data": {
      "text/html": [
       "<div>\n",
       "<style scoped>\n",
       "    .dataframe tbody tr th:only-of-type {\n",
       "        vertical-align: middle;\n",
       "    }\n",
       "\n",
       "    .dataframe tbody tr th {\n",
       "        vertical-align: top;\n",
       "    }\n",
       "\n",
       "    .dataframe thead th {\n",
       "        text-align: right;\n",
       "    }\n",
       "</style>\n",
       "<table border=\"1\" class=\"dataframe\">\n",
       "  <thead>\n",
       "    <tr style=\"text-align: right;\">\n",
       "      <th></th>\n",
       "      <th>count</th>\n",
       "    </tr>\n",
       "    <tr>\n",
       "      <th>Region</th>\n",
       "      <th></th>\n",
       "    </tr>\n",
       "  </thead>\n",
       "  <tbody>\n",
       "    <tr>\n",
       "      <th>Europe &amp; Central Asia</th>\n",
       "      <td>58</td>\n",
       "    </tr>\n",
       "    <tr>\n",
       "      <th>Sub-Saharan Africa</th>\n",
       "      <td>48</td>\n",
       "    </tr>\n",
       "    <tr>\n",
       "      <th>Latin America &amp; Caribbean</th>\n",
       "      <td>42</td>\n",
       "    </tr>\n",
       "    <tr>\n",
       "      <th>East Asia &amp; Pacific</th>\n",
       "      <td>37</td>\n",
       "    </tr>\n",
       "    <tr>\n",
       "      <th>Middle East &amp; North Africa</th>\n",
       "      <td>21</td>\n",
       "    </tr>\n",
       "    <tr>\n",
       "      <th>South Asia</th>\n",
       "      <td>8</td>\n",
       "    </tr>\n",
       "    <tr>\n",
       "      <th>North America</th>\n",
       "      <td>3</td>\n",
       "    </tr>\n",
       "  </tbody>\n",
       "</table>\n",
       "</div>"
      ],
      "text/plain": [
       "                            count\n",
       "Region                           \n",
       "Europe & Central Asia          58\n",
       "Sub-Saharan Africa             48\n",
       "Latin America & Caribbean      42\n",
       "East Asia & Pacific            37\n",
       "Middle East & North Africa     21\n",
       "South Asia                      8\n",
       "North America                   3"
      ]
     },
     "execution_count": 43,
     "metadata": {},
     "output_type": "execute_result"
    }
   ],
   "source": [
    "region_counts.index.name = 'Region'\n",
    "region_counts"
   ]
  },
  {
   "cell_type": "markdown",
   "metadata": {
    "id": "ts65G1wZrXYP"
   },
   "source": [
    "Можемо повторити описаний вище процес для ознаки 'engine-location'.\n"
   ]
  },
  {
   "cell_type": "code",
   "execution_count": 44,
   "metadata": {
    "id": "svI1kbLwrXYQ"
   },
   "outputs": [
    {
     "data": {
      "text/html": [
       "<div>\n",
       "<style scoped>\n",
       "    .dataframe tbody tr th:only-of-type {\n",
       "        vertical-align: middle;\n",
       "    }\n",
       "\n",
       "    .dataframe tbody tr th {\n",
       "        vertical-align: top;\n",
       "    }\n",
       "\n",
       "    .dataframe thead th {\n",
       "        text-align: right;\n",
       "    }\n",
       "</style>\n",
       "<table border=\"1\" class=\"dataframe\">\n",
       "  <thead>\n",
       "    <tr style=\"text-align: right;\">\n",
       "      <th></th>\n",
       "      <th>count</th>\n",
       "    </tr>\n",
       "    <tr>\n",
       "      <th>country-name</th>\n",
       "      <th></th>\n",
       "    </tr>\n",
       "  </thead>\n",
       "  <tbody>\n",
       "    <tr>\n",
       "      <th>Afghanistan</th>\n",
       "      <td>1</td>\n",
       "    </tr>\n",
       "    <tr>\n",
       "      <th>Palau</th>\n",
       "      <td>1</td>\n",
       "    </tr>\n",
       "    <tr>\n",
       "      <th>Nepal</th>\n",
       "      <td>1</td>\n",
       "    </tr>\n",
       "    <tr>\n",
       "      <th>Netherlands</th>\n",
       "      <td>1</td>\n",
       "    </tr>\n",
       "    <tr>\n",
       "      <th>New Caledonia</th>\n",
       "      <td>1</td>\n",
       "    </tr>\n",
       "    <tr>\n",
       "      <th>New Zealand</th>\n",
       "      <td>1</td>\n",
       "    </tr>\n",
       "    <tr>\n",
       "      <th>Nicaragua</th>\n",
       "      <td>1</td>\n",
       "    </tr>\n",
       "    <tr>\n",
       "      <th>Niger</th>\n",
       "      <td>1</td>\n",
       "    </tr>\n",
       "    <tr>\n",
       "      <th>Nigeria</th>\n",
       "      <td>1</td>\n",
       "    </tr>\n",
       "    <tr>\n",
       "      <th>Northern Mariana Islands</th>\n",
       "      <td>1</td>\n",
       "    </tr>\n",
       "  </tbody>\n",
       "</table>\n",
       "</div>"
      ],
      "text/plain": [
       "                          count\n",
       "country-name                   \n",
       "Afghanistan                   1\n",
       "Palau                         1\n",
       "Nepal                         1\n",
       "Netherlands                   1\n",
       "New Caledonia                 1\n",
       "New Zealand                   1\n",
       "Nicaragua                     1\n",
       "Niger                         1\n",
       "Nigeria                       1\n",
       "Northern Mariana Islands      1"
      ]
     },
     "execution_count": 44,
     "metadata": {},
     "output_type": "execute_result"
    }
   ],
   "source": [
    "# engine-location as variable\n",
    "engine_loc_counts = df['Country Name'].value_counts().to_frame()\n",
    "engine_loc_counts.rename(columns={'Country Name': 'value_counts'}, inplace=True)\n",
    "engine_loc_counts.index.name = 'country-name'\n",
    "engine_loc_counts.head(10)"
   ]
  },
  {
   "cell_type": "markdown",
   "metadata": {
    "id": "RGjuiBPQrXYQ"
   },
   "source": [
    "<p>Переглянувши кількість значень розташування двигуна бачимо, що розташування двигуна не буде гарним предиктором для ціни. Це пов’язано з тим, що у нас є лише три машини із заднім двигуном і 198 з двигуном спереду, тому цей результат спотворений (зсунутий). Таким чином, ми не можемо зробити жодних висновків спираючись на розташування двигуна.</p>"
   ]
  },
  {
   "cell_type": "markdown",
   "metadata": {
    "id": "ZEQNoeGvrXYQ"
   },
   "source": [
    "<a name=\"basic_grouping\"></a>\n",
    "## <h2>Групування даних</h2>\n"
   ]
  },
  {
   "cell_type": "markdown",
   "metadata": {
    "id": "4QDu87a4rXYQ"
   },
   "source": [
    "<p>Метод <code>groupby()</code> групує дані за різними категоріями. Дані групуються на основі однієї або кількох змінних, а аналіз виконується на окремих групах.</p>\n",
    "\n",
    "<p>Для прикладу згрупуємо за змінною 'drive-wheels'. Бачимо, що є 3 різні категорії ведучих коліс.</p>\n"
   ]
  },
  {
   "cell_type": "code",
   "execution_count": 48,
   "metadata": {
    "id": "YL93jE8brXYR"
   },
   "outputs": [
    {
     "data": {
      "text/plain": [
       "array(['South Asia', 'Europe & Central Asia',\n",
       "       'Middle East & North Africa', 'East Asia & Pacific',\n",
       "       'Sub-Saharan Africa', 'Latin America & Caribbean', 'North America'],\n",
       "      dtype=object)"
      ]
     },
     "execution_count": 48,
     "metadata": {},
     "output_type": "execute_result"
    }
   ],
   "source": [
    "df['Region'].unique()"
   ]
  },
  {
   "cell_type": "markdown",
   "metadata": {
    "id": "sX5yXSa1rXYR"
   },
   "source": [
    "<p>Якщо хочемо знати в середньому, який тип ведучого колеса є найдорожчим, можемо згрупувати 'drive-wheels', а потім усереднити їх ціну по групам.</p>\n",
    "\n",
    "<p>Оберемо стовпчики 'drive-wheels', 'body-style' та 'price' і запишемо їх в змінну \"df_group_one\".</p>\n"
   ]
  },
  {
   "cell_type": "code",
   "execution_count": 54,
   "metadata": {
    "id": "JyAAfLRlrXYR"
   },
   "outputs": [],
   "source": [
    "df_group_one = df[['Region','GDP per capita','CO2 emission']]"
   ]
  },
  {
   "cell_type": "markdown",
   "metadata": {
    "id": "hHTnHHQZrXYR"
   },
   "source": [
    "Потім можемо розрахувати середню ціну для кожної з різних категорій даних.\n"
   ]
  },
  {
   "cell_type": "code",
   "execution_count": 55,
   "metadata": {
    "id": "mBj-X70PrXYR"
   },
   "outputs": [
    {
     "data": {
      "text/html": [
       "<div>\n",
       "<style scoped>\n",
       "    .dataframe tbody tr th:only-of-type {\n",
       "        vertical-align: middle;\n",
       "    }\n",
       "\n",
       "    .dataframe tbody tr th {\n",
       "        vertical-align: top;\n",
       "    }\n",
       "\n",
       "    .dataframe thead th {\n",
       "        text-align: right;\n",
       "    }\n",
       "</style>\n",
       "<table border=\"1\" class=\"dataframe\">\n",
       "  <thead>\n",
       "    <tr style=\"text-align: right;\">\n",
       "      <th></th>\n",
       "      <th>Region</th>\n",
       "      <th>GDP per capita</th>\n",
       "      <th>CO2 emission</th>\n",
       "    </tr>\n",
       "  </thead>\n",
       "  <tbody>\n",
       "    <tr>\n",
       "      <th>0</th>\n",
       "      <td>East Asia &amp; Pacific</td>\n",
       "      <td>15130.226548</td>\n",
       "      <td>3.918692e+05</td>\n",
       "    </tr>\n",
       "    <tr>\n",
       "      <th>1</th>\n",
       "      <td>Europe &amp; Central Asia</td>\n",
       "      <td>22742.135518</td>\n",
       "      <td>1.217805e+05</td>\n",
       "    </tr>\n",
       "    <tr>\n",
       "      <th>2</th>\n",
       "      <td>Latin America &amp; Caribbean</td>\n",
       "      <td>10485.343136</td>\n",
       "      <td>5.682480e+04</td>\n",
       "    </tr>\n",
       "    <tr>\n",
       "      <th>3</th>\n",
       "      <td>Middle East &amp; North Africa</td>\n",
       "      <td>15459.162533</td>\n",
       "      <td>1.312287e+05</td>\n",
       "    </tr>\n",
       "    <tr>\n",
       "      <th>4</th>\n",
       "      <td>North America</td>\n",
       "      <td>37755.682535</td>\n",
       "      <td>1.930683e+06</td>\n",
       "    </tr>\n",
       "    <tr>\n",
       "      <th>5</th>\n",
       "      <td>South Asia</td>\n",
       "      <td>2795.213935</td>\n",
       "      <td>3.145543e+05</td>\n",
       "    </tr>\n",
       "    <tr>\n",
       "      <th>6</th>\n",
       "      <td>Sub-Saharan Africa</td>\n",
       "      <td>2878.665521</td>\n",
       "      <td>1.700846e+04</td>\n",
       "    </tr>\n",
       "  </tbody>\n",
       "</table>\n",
       "</div>"
      ],
      "text/plain": [
       "                       Region  GDP per capita  CO2 emission\n",
       "0         East Asia & Pacific    15130.226548  3.918692e+05\n",
       "1       Europe & Central Asia    22742.135518  1.217805e+05\n",
       "2   Latin America & Caribbean    10485.343136  5.682480e+04\n",
       "3  Middle East & North Africa    15459.162533  1.312287e+05\n",
       "4               North America    37755.682535  1.930683e+06\n",
       "5                  South Asia     2795.213935  3.145543e+05\n",
       "6          Sub-Saharan Africa     2878.665521  1.700846e+04"
      ]
     },
     "execution_count": 55,
     "metadata": {},
     "output_type": "execute_result"
    }
   ],
   "source": [
    "# grouping results\n",
    "df_group_one = df_group_one.groupby(['Region'],as_index=False).mean()\n",
    "df_group_one"
   ]
  },
  {
   "cell_type": "markdown",
   "metadata": {
    "id": "avDTiVE1rXYS"
   },
   "source": [
    "<p>За нашими даними, здається, що задньопривідні автомобілі в середньому є найдорожчими, тоді як повнопривідні та передньопривідні приблизно однакові за ціною.</p>\n",
    "\n",
    "<p>Можна також групувати за кількома змінними. Наприклад, згрупуємо за 'drive-wheels' та 'body-style'. Таке групування робиться за унікальною комбінацією 'drive-wheels' та 'body-style'. Можемо зберігати результати в змінній \"grouped_test1\".</p>\n"
   ]
  },
  {
   "cell_type": "code",
   "execution_count": null,
   "metadata": {
    "id": "9CBfdjkMrXYS"
   },
   "outputs": [],
   "source": [
    "# grouping results\n",
    "df_gptest = df[['drive-wheels','body-style','price']]\n",
    "grouped_test1 = df_gptest.groupby(['drive-wheels','body-style'],as_index=False).mean()\n",
    "grouped_test1"
   ]
  },
  {
   "cell_type": "markdown",
   "metadata": {
    "id": "gd7Ze-HqrXYS"
   },
   "source": [
    "<p>Ці згруповані дані набагато легше візуалізувати, якщо їх перетворити у зведену таблицю. Зведена таблиця схожа на електронну таблицю Excel з однією змінною вздовж стовпця та іншою вздовж рядка. Ми можемо перетворити фрейм даних на зведену таблицю за допомогою методу <code>pivot()</code>, щоб створити зведену таблицю з груп.</p>\n",
    "\n",
    "<p>Залишимо змінну 'drive-wheels' як рядки таблиці, а 'body-style' перетворимо на стовпці таблиці:</p>\n"
   ]
  },
  {
   "cell_type": "code",
   "execution_count": null,
   "metadata": {
    "id": "3sY4_ZMBrXYT"
   },
   "outputs": [],
   "source": [
    "grouped_pivot = grouped_test1.pivot(index='drive-wheels',columns='body-style')\n",
    "grouped_pivot"
   ]
  },
  {
   "cell_type": "markdown",
   "metadata": {
    "id": "swj41kcxrXYT"
   },
   "source": [
    "<p>Часто ми не матимемо даних для деяких зведених клітинок. Можемо заповнити ці відсутні клітинки значенням 0, але потенційно можна використати будь-яке інше значення. </p>\n"
   ]
  },
  {
   "cell_type": "code",
   "execution_count": null,
   "metadata": {
    "id": "aycHkXRtrXYT",
    "scrolled": true
   },
   "outputs": [],
   "source": [
    "grouped_pivot = grouped_pivot.fillna(0)   # заповнення відсутніх значень 0\n",
    "grouped_pivot"
   ]
  },
  {
   "cell_type": "markdown",
   "metadata": {
    "id": "QysC7wocrXYT"
   },
   "source": [
    "<div class=\"alert alert-success alertsuccess\" style=\"margin-top: 20px\">\n",
    "<h2>Завдання 4:</h2>\n",
    "\n",
    "<p>Використайте функцію \"groupby\", щоб знайти середню ціну 'price' кожного автомобіля на основі типу кузова 'body-style'.</p>\n",
    "</div>\n"
   ]
  },
  {
   "cell_type": "code",
   "execution_count": null,
   "metadata": {
    "id": "3zX5B4vfrXYU"
   },
   "outputs": [],
   "source": [
    "# Напишіть ваш код нижче та натисніть Shift+Enter для виконання\n"
   ]
  },
  {
   "cell_type": "markdown",
   "metadata": {
    "id": "prBAX4FNrXYU"
   },
   "source": [
    "<details><summary>Натисніть тут, щоб побачити підказку</summary>\n",
    "\n",
    "```python\n",
    "# grouping results\n",
    "df_gptest2 = df[['body-style','price']]\n",
    "grouped_test_bodystyle = df_gptest2.groupby(['body-style'],as_index= False).mean()\n",
    "grouped_test_bodystyle\n",
    "\n",
    "```\n",
    "\n",
    "</details>\n"
   ]
  },
  {
   "cell_type": "markdown",
   "metadata": {
    "id": "TiCDOfV0rXYU"
   },
   "source": [
    "Якщо ви не імпортували \"pyplot\", зробіть це зараз."
   ]
  },
  {
   "cell_type": "code",
   "execution_count": null,
   "metadata": {
    "id": "9MLSAZVyrXYU"
   },
   "outputs": [],
   "source": [
    "import matplotlib.pyplot as plt\n",
    "%matplotlib inline"
   ]
  },
  {
   "cell_type": "markdown",
   "metadata": {
    "id": "WF7K6gCLrXYV"
   },
   "source": [
    "<h4>Змінні: Drive Wheels та Body Style vs. Price</h4>\n"
   ]
  },
  {
   "cell_type": "markdown",
   "metadata": {
    "id": "gHvV0J-HrXYV"
   },
   "source": [
    "Давайте використаємо теплову карту, щоб візуалізувати зв’язок між Body Style vs Price.\n"
   ]
  },
  {
   "cell_type": "code",
   "execution_count": null,
   "metadata": {
    "id": "KGoC5M8brXYV"
   },
   "outputs": [],
   "source": [
    "#use the grouped results\n",
    "plt.pcolor(grouped_pivot, cmap='RdBu')\n",
    "plt.colorbar()\n",
    "plt.show()"
   ]
  },
  {
   "cell_type": "markdown",
   "metadata": {
    "id": "c_fB1FebrXYV"
   },
   "source": [
    "<p>На тепловій карті цільова змінна ціна ('price') пропорційно зафарбована відносно змінних 'drive-wheel' і 'body-style' на вертикальній і горизонтальній осях відповідно. Це дозволяє нам візуалізувати, як ціна пов’язана з 'drive-wheel' і 'body-style'.</p>\n",
    "\n",
    "<p>Мітки за замовчуванням не передають нам жодної корисної інформації. Давайте змінимо це:</p>\n"
   ]
  },
  {
   "cell_type": "code",
   "execution_count": null,
   "metadata": {
    "id": "OC4OezrgrXYV"
   },
   "outputs": [],
   "source": [
    "fig, ax = plt.subplots()\n",
    "im = ax.pcolor(grouped_pivot, cmap='RdBu')\n",
    "\n",
    "#label names\n",
    "row_labels = grouped_pivot.columns.levels[1]\n",
    "col_labels = grouped_pivot.index\n",
    "\n",
    "#move ticks and labels to the center\n",
    "ax.set_xticks(np.arange(grouped_pivot.shape[1]) + 0.5, minor=False)\n",
    "ax.set_yticks(np.arange(grouped_pivot.shape[0]) + 0.5, minor=False)\n",
    "\n",
    "#insert labels\n",
    "ax.set_xticklabels(row_labels, minor=False)\n",
    "ax.set_yticklabels(col_labels, minor=False)\n",
    "\n",
    "#rotate label if too long\n",
    "plt.xticks(rotation=90)\n",
    "\n",
    "fig.colorbar(im)\n",
    "plt.show()"
   ]
  },
  {
   "cell_type": "markdown",
   "metadata": {
    "id": "nn6prT9orXYW"
   },
   "source": [
    "<p>Основне питання, на яке ми хочемо відповісти в цьому модулі: «Які основні ознаки найбільше впливають на ціну автомобіля?».</p>\n",
    "\n",
    "<p>Щоб отримати кращу оцінку важливих ознак, подивимося на кореляцію цих змінних із ціною автомобіля. Іншими словами: як ціна автомобіля залежить від цієї змінної?</p>\n"
   ]
  },
  {
   "cell_type": "markdown",
   "metadata": {
    "id": "DrcxDXLOrXYW"
   },
   "source": [
    "<a name=\"correlation_causation\"></a>\n",
    "## <h2>Кореляція та причинно-наслідковий зв’язок</h2>\n"
   ]
  },
  {
   "cell_type": "markdown",
   "metadata": {
    "id": "_S0Djl-LrXYW"
   },
   "source": [
    "<p><b>Кореляція</b>: міра ступеня взаємозалежності між змінними.</p>\n",
    "\n",
    "<p><b>Причинно-наслідковий зв’язок</b>: зв'язок між причиною та наслідком між двома змінними.</p>\n",
    "\n",
    "<p>Важливо знати різницю між цими двома термінами. Кореляція не передбачає причинного зв’язку. Визначити кореляцію набагато простіше, ніж визначити причинно-наслідковий зв’язок, оскільки причинно-наслідковий зв’язок може потребувати незалежного експериментування.</p>\n"
   ]
  },
  {
   "cell_type": "markdown",
   "metadata": {
    "id": "hXkI2CDXrXYW"
   },
   "source": [
    "<p><b>Кореляція Пірсона</b></p>\n",
    "<p>Кореляція Пірсона вимірює лінійну залежність між двома змінними X і Y.</p>\n",
    "<p>Отриманий коефіцієнт має значення від -1 до 1 включно, де:</p>\n",
    "<ul>\n",
    "    <li><b>1</b>: ідеальна позитивна лінійна кореляція.</li>\n",
    "    <li><b>0</b>: немає лінійної кореляції, дві змінні, швидше за все, не впливають одна на одну.</li>\n",
    "    <li><b>-1</b>: ідеальна негативна лінійна кореляція.</li>\n",
    "</ul>\n"
   ]
  },
  {
   "cell_type": "markdown",
   "metadata": {
    "id": "nV7kvk8yrXYW"
   },
   "source": [
    "<p>Кореляція Пірсона є методом за замовчуванням функції <code>corr()</code>. Як вже бачили раніше, можемо обчислити кореляцію Пірсона для змінних \"int64\" або \"float64\".</p>\n"
   ]
  },
  {
   "cell_type": "code",
   "execution_count": null,
   "metadata": {
    "id": "1C-TrTi7rXYW"
   },
   "outputs": [],
   "source": [
    "df.corr()"
   ]
  },
  {
   "cell_type": "markdown",
   "metadata": {
    "id": "e73AcwomrXYX"
   },
   "source": [
    "Іноді нам хотілося б знати значимість оцінки кореляції.\n"
   ]
  },
  {
   "cell_type": "markdown",
   "metadata": {
    "id": "bzX0rg2SrXYX"
   },
   "source": [
    "<b>Рівень значущості (P-value)</b>\n",
    "<p>Що таке P-value? P-value це значення ймовірності того, що кореляція між двома змінними є статистично значущою. Зазвичай  обираємо рівень значущості 0,05, що означає, що ми на 95% впевнені, що кореляція між змінними є значущою.</p>\n",
    "\n",
    "Згідно з умовами, коли\n",
    "<ul>\n",
    "    <li>p-value $<$ 0.001: ми кажемо, що є вагомі докази того, що кореляція є значною.</li>\n",
    "    <li>the p-value $<$ 0.05: є помірні докази того, що кореляція є значною.</li>\n",
    "    <li>the p-value $<$ 0.1: є слабкі докази того, що кореляція є значною.</li>\n",
    "    <li>the p-value $>$ 0.1: немає доказів того, що кореляція є значною.</li>\n",
    "</ul>\n"
   ]
  },
  {
   "cell_type": "markdown",
   "metadata": {
    "id": "Dy-_ZFkOrXYX"
   },
   "source": [
    " Ми можемо отримати цю інформацію за допомогою модуля \"stats\" у бібліотеці \"scipy\".\n"
   ]
  },
  {
   "cell_type": "code",
   "execution_count": null,
   "metadata": {
    "id": "ns90MuENrXYX"
   },
   "outputs": [],
   "source": [
    "from scipy import stats"
   ]
  },
  {
   "cell_type": "markdown",
   "metadata": {
    "id": "wbycS6GerXYX"
   },
   "source": [
    "<h3>Wheel-Base vs. Price</h3>\n"
   ]
  },
  {
   "cell_type": "markdown",
   "metadata": {
    "id": "Ct6NkbZVrXYX"
   },
   "source": [
    "Обчислимо коефіцієнт кореляції Пірсона та P-value 'wheel-base' і 'price'.\n"
   ]
  },
  {
   "cell_type": "code",
   "execution_count": null,
   "metadata": {
    "id": "MyL7hPylrXYY"
   },
   "outputs": [],
   "source": [
    "pearson_coef, p_value = stats.pearsonr(df['wheel-base'], df['price'])\n",
    "print(\"The Pearson Correlation Coefficient is\", pearson_coef, \" with a P-value of P =\", p_value)"
   ]
  },
  {
   "cell_type": "markdown",
   "metadata": {
    "id": "NmQsJDxzrXYY"
   },
   "source": [
    "<h4>Висновок:</h4>\n",
    "<p>Оскільки p-value $<$ 0.001, кореляція між 'wheel-base' та 'price' є статистично значущою, хоча лінійна залежність не дуже сильна (~0.585).</p>\n"
   ]
  },
  {
   "cell_type": "markdown",
   "metadata": {
    "id": "BYJZ6m01rXYY"
   },
   "source": [
    "<h3>Horsepower vs. Price</h3>\n"
   ]
  },
  {
   "cell_type": "markdown",
   "metadata": {
    "id": "HGsBez7grXYY"
   },
   "source": [
    " Обчислимо коефіцієнт кореляції Пірсона та P-value 'horsepower' і 'price'.\n"
   ]
  },
  {
   "cell_type": "code",
   "execution_count": null,
   "metadata": {
    "id": "VA9GgiwXrXYY"
   },
   "outputs": [],
   "source": [
    "pearson_coef, p_value = stats.pearsonr(df['horsepower'], df['price'])\n",
    "print(\"The Pearson Correlation Coefficient is\", pearson_coef, \" with a P-value of P = \", p_value)"
   ]
  },
  {
   "cell_type": "markdown",
   "metadata": {
    "id": "XJwJpR3urXYY"
   },
   "source": [
    "<h4>Висновок:</h4>\n",
    "\n",
    "<p>Оскільки p-value $<$ 0.001, кореляція між  'horsepower' та 'price' є статистично значущою, а лінійний зв’язок досить сильний (~0.809, близкий до 1).</p>\n"
   ]
  },
  {
   "cell_type": "markdown",
   "metadata": {
    "id": "5v0j7faLrXYZ"
   },
   "source": [
    "<h3>Length vs. Price</h3>\n",
    "\n",
    "Обчислимо коефіцієнт кореляції Пірсона та P-value 'length' і 'price'.\n"
   ]
  },
  {
   "cell_type": "code",
   "execution_count": null,
   "metadata": {
    "id": "IxMe7rPorXYZ"
   },
   "outputs": [],
   "source": [
    "pearson_coef, p_value = stats.pearsonr(df['length'], df['price'])\n",
    "print(\"The Pearson Correlation Coefficient is\", pearson_coef, \" with a P-value of P = \", p_value)"
   ]
  },
  {
   "cell_type": "markdown",
   "metadata": {
    "id": "ey9JIzY5rXYZ"
   },
   "source": [
    "<h4>Висновок:</h4>\n",
    "<p>Оскільки p-value $<$ 0.001, кореляція між 'length' та 'price' є статистично значущою, а лінійний зв’язок є помірно сильним (~0.691).</p>\n"
   ]
  },
  {
   "cell_type": "markdown",
   "metadata": {
    "id": "a4GaeeTMrXYZ"
   },
   "source": [
    "<h3>Width vs. Price</h3>\n"
   ]
  },
  {
   "cell_type": "markdown",
   "metadata": {
    "id": "PAtO9VEOrXYZ"
   },
   "source": [
    " Обчислимо коефіцієнт кореляції Пірсона та P-value 'width' і 'price':\n"
   ]
  },
  {
   "cell_type": "code",
   "execution_count": null,
   "metadata": {
    "id": "BlMDGKpKrXYZ"
   },
   "outputs": [],
   "source": [
    "pearson_coef, p_value = stats.pearsonr(df['width'], df['price'])\n",
    "print(\"The Pearson Correlation Coefficient is\", pearson_coef, \" with a P-value of P =\", p_value )"
   ]
  },
  {
   "cell_type": "markdown",
   "metadata": {
    "id": "AaPcm1bVrXYa"
   },
   "source": [
    "<h4>Висновок:</h4>\n",
    "\n",
    "Оскільки p-value < 0.001, кореляція між 'width' та 'price' є статистично значущою, а лінійний зв'язок досить сильний (~0.751).\n"
   ]
  },
  {
   "cell_type": "markdown",
   "metadata": {
    "id": "KPlH_pwzrXYa"
   },
   "source": [
    "<h3>Curb-Weight vs. Price</h3>\n"
   ]
  },
  {
   "cell_type": "markdown",
   "metadata": {
    "id": "YXWrh064rXYa"
   },
   "source": [
    " Обчислимо коефіцієнт кореляції Пірсона та P-value 'curb-weight' і 'price':\n"
   ]
  },
  {
   "cell_type": "code",
   "execution_count": null,
   "metadata": {
    "id": "1W6RhszfrXYa"
   },
   "outputs": [],
   "source": [
    "pearson_coef, p_value = stats.pearsonr(df['curb-weight'], df['price'])\n",
    "print( \"The Pearson Correlation Coefficient is\", pearson_coef, \" with a P-value of P = \", p_value)"
   ]
  },
  {
   "cell_type": "markdown",
   "metadata": {
    "id": "qgoLkohrrXYa"
   },
   "source": [
    "<h4>Висновок:</h4>\n",
    "<p>Оскільки p-value $<$ 0.001, кореляція між 'curb-weight' та 'price' є статистично значущою, а лінійний зв'язок досить сильний (~0.834).</p>\n"
   ]
  },
  {
   "cell_type": "markdown",
   "metadata": {
    "id": "6jwc152hrXYa"
   },
   "source": [
    "<h3>Engine-Size vs. Price</h3>\n",
    "\n",
    "Обчислимо коефіцієнт кореляції Пірсона та P-value 'engine-size' і 'price':\n"
   ]
  },
  {
   "cell_type": "code",
   "execution_count": null,
   "metadata": {
    "id": "-r8KKVrarXYa"
   },
   "outputs": [],
   "source": [
    "pearson_coef, p_value = stats.pearsonr(df['engine-size'], df['price'])\n",
    "print(\"The Pearson Correlation Coefficient is\", pearson_coef, \" with a P-value of P =\", p_value)"
   ]
  },
  {
   "cell_type": "markdown",
   "metadata": {
    "id": "VqFLwvB5rXYb"
   },
   "source": [
    "<h4>Висновок:</h4>\n",
    "\n",
    "<p>Оскільки p-value $<$ 0.001, кореляція між 'engine-size' та 'price' є статистично значущою, а лінійний зв'язок дуже сильний (~0.872).</p>\n"
   ]
  },
  {
   "cell_type": "markdown",
   "metadata": {
    "id": "Dn7gtA1TrXYb"
   },
   "source": [
    "<h3>Bore vs. Price</h3>\n"
   ]
  },
  {
   "cell_type": "markdown",
   "metadata": {
    "id": "3chPPz-5rXYb"
   },
   "source": [
    " Обчислимо коефіцієнт кореляції Пірсона та P-value 'bore' і 'price':\n"
   ]
  },
  {
   "cell_type": "code",
   "execution_count": null,
   "metadata": {
    "id": "wT1cfyhmrXYb"
   },
   "outputs": [],
   "source": [
    "pearson_coef, p_value = stats.pearsonr(df['bore'], df['price'])\n",
    "print(\"The Pearson Correlation Coefficient is\", pearson_coef, \" with a P-value of P =  \", p_value )"
   ]
  },
  {
   "cell_type": "markdown",
   "metadata": {
    "id": "MqngbgCLrXYc"
   },
   "source": [
    "<h4>Висновок:</h4>\n",
    "<p>Оскільки p-value $<$ 0.001,  кореляція між 'bore' та 'price' є статистично значущою, але лінійна залежність лише помірна (~0.521).</p>\n"
   ]
  },
  {
   "cell_type": "markdown",
   "metadata": {
    "id": "4NtGJL16rXYc"
   },
   "source": [
    " Продовжимо процес для 'city-mpg'  та 'highway-mpg':\n"
   ]
  },
  {
   "cell_type": "markdown",
   "metadata": {
    "id": "vHPDzeLsrXYc"
   },
   "source": [
    "<h3>City-mpg vs. Price</h3>\n"
   ]
  },
  {
   "cell_type": "code",
   "execution_count": null,
   "metadata": {
    "id": "tXyQAXhErXYc"
   },
   "outputs": [],
   "source": [
    "pearson_coef, p_value = stats.pearsonr(df['city-mpg'], df['price'])\n",
    "print(\"The Pearson Correlation Coefficient is\", pearson_coef, \" with a P-value of P = \", p_value)"
   ]
  },
  {
   "cell_type": "markdown",
   "metadata": {
    "id": "CmAFjZVdrXYd"
   },
   "source": [
    "<h4>Висновок:</h4>\n",
    "<p>Оскільки p-value $<$ 0.001, кореляція між 'city-mpg' та 'price' є статистично значущою, а коефіцієнт близько -0.687 показує, що зв'язок негативний і помірно сильний.</p>\n"
   ]
  },
  {
   "cell_type": "markdown",
   "metadata": {
    "id": "y-ZI5LZ7rXYd"
   },
   "source": [
    "<h3>Highway-mpg vs. Price</h3>\n"
   ]
  },
  {
   "cell_type": "code",
   "execution_count": null,
   "metadata": {
    "id": "HlxE7H31rXYd"
   },
   "outputs": [],
   "source": [
    "pearson_coef, p_value = stats.pearsonr(df['highway-mpg'], df['price'])\n",
    "print( \"The Pearson Correlation Coefficient is\", pearson_coef, \" with a P-value of P = \", p_value )"
   ]
  },
  {
   "cell_type": "markdown",
   "metadata": {
    "id": "VbDsrIeBrXYe"
   },
   "source": [
    "<h4>Висновок:</h4>\n",
    "Оскільки p-value < 0.001, кореляція між 'highway-mpg' та 'price' є статистично значущою, а коефіцієнт близько -0.705 показує, що зв'язок негативний і помірно сильний.\n"
   ]
  },
  {
   "cell_type": "markdown",
   "metadata": {
    "id": "p3CZzYkxrXYe"
   },
   "source": [
    "<a name=\"anova\"></a>\n",
    "## <h2>Дисперсійний аналіз (ANOVA)</h2>\n"
   ]
  },
  {
   "cell_type": "markdown",
   "metadata": {
    "id": "X5gdXd7prXYe"
   },
   "source": [
    "<p>Дисперсійний аналіз  (ANOVA) це статистичний метод, який використовується для перевірки наявності суттєвих відмінностей між середніми значеннями двох або більше груп. ANOVA повертає два параметри:</p>\n",
    "\n",
    "<p><b>F-test score</b>: ANOVA припускає, що середні значення для всіх груп однакові, обчислює, наскільки фактичні середні відхиляються від припущення, і повідомляє це як результат F-тесту. Більше значення F-статистики означає більшу різницю між середніми значеннями.</p>\n",
    "\n",
    "<p><b>P-value</b>:  показує, наскільки статистично значущим є обчислене значення F-статистики.</p>\n",
    "\n",
    "<p>Якщо змінна 'price' сильно корелює зі змінною, яку ми аналізуємо, то очікуємо, що ANOVA поверне досить велике значення F-статистики та невелике p-value. </p>\n"
   ]
  },
  {
   "cell_type": "markdown",
   "metadata": {
    "id": "uN8O8fkkrXYf"
   },
   "source": [
    "<h3>Drive Wheels</h3>\n"
   ]
  },
  {
   "cell_type": "markdown",
   "metadata": {
    "id": "MygLNvakrXYf"
   },
   "source": [
    "<p>Оскільки ANOVA аналізує різницю між різними групами однієї змінної, стане в нагоді функція <code>groupby()</code>. Оскільки алгоритм дисперсійного аналізу автоматично усереднює дані, нам не потрібно брати середнє значення заздалегідь.</p>\n",
    "\n",
    "<p>Згрупуємо дані, щоб побачити чи впливають різні типи 'drive-wheels' на 'price'.</p>\n"
   ]
  },
  {
   "cell_type": "code",
   "execution_count": null,
   "metadata": {
    "id": "ud-pX3KRrXYf"
   },
   "outputs": [],
   "source": [
    "grouped_test2=df_gptest[['drive-wheels', 'price']].groupby(['drive-wheels'])\n",
    "grouped_test2.head(2)"
   ]
  },
  {
   "cell_type": "markdown",
   "metadata": {
    "id": "2ZY2NWkorXYf"
   },
   "source": [
    " Можемо отримати значення групи за допомогою методу <code>get_group()</code>.  \n"
   ]
  },
  {
   "cell_type": "code",
   "execution_count": null,
   "metadata": {
    "id": "HZFt4WQrrXYf"
   },
   "outputs": [],
   "source": [
    "grouped_test2.get_group('4wd')['price']"
   ]
  },
  {
   "cell_type": "markdown",
   "metadata": {
    "id": "rvIr5fXgrXYf"
   },
   "source": [
    "У випадку параметричного дисперсійного аналізу (ANOVA) можемо скористатись функцією 'f_oneway' з модуля 'stats' для отримання <b>F-test score</b> та <b>P-value</b>.\n"
   ]
  },
  {
   "cell_type": "code",
   "execution_count": null,
   "metadata": {
    "id": "HkgST69ZrXYg"
   },
   "outputs": [],
   "source": [
    "# ANOVA\n",
    "f_val, p_val = stats.f_oneway(grouped_test2.get_group('fwd')['price'], grouped_test2.get_group('rwd')['price'], grouped_test2.get_group('4wd')['price'])\n",
    "\n",
    "print( \"ANOVA results: F=\", f_val, \", P =\", p_val)"
   ]
  },
  {
   "cell_type": "markdown",
   "metadata": {
    "id": "km7T-MaurXYg"
   },
   "source": [
    "Але такий варіант дисперсійного аналізу дасть коректний результат, коли дані мають нормальний розподіл в групах. Перевіримо, чи нормально розподілені дані в кожній з груп, скористаємось функцією 'shapiro' з модуля 'stats'.  "
   ]
  },
  {
   "cell_type": "code",
   "execution_count": null,
   "metadata": {
    "id": "aPmGabQBrXYg"
   },
   "outputs": [],
   "source": [
    "print(\"група 'fwd'\", stats.shapiro(grouped_test2.get_group('fwd')['price']))\n",
    "print(\"група 'rwd'\", stats.shapiro(grouped_test2.get_group('rwd')['price']))\n",
    "print(\"група '4wd'\", stats.shapiro(grouped_test2.get_group('4wd')['price']))\n"
   ]
  },
  {
   "cell_type": "markdown",
   "metadata": {
    "id": "8vF5ZTf0rXYg"
   },
   "source": [
    "P-value майже 0 в двох групах і не перевищує рівня значущості 0.05 в третій, отже в усіх групах дані мають  розподіл що відрізняється від нормального. Тому для дисперсійного аналізу скористаємось непараметричним аналогом ANOVA - тестом Краскела-Уоліса."
   ]
  },
  {
   "cell_type": "code",
   "execution_count": null,
   "metadata": {
    "id": "yNXTxDisrXYh"
   },
   "outputs": [],
   "source": [
    "# Conduct the Kruskal-Wallis Test (non-parametric ANOVA)\n",
    "result = stats.kruskal(grouped_test2.get_group('fwd')['price'], grouped_test2.get_group('rwd')['price'], grouped_test2.get_group('4wd')['price'])\n",
    "\n",
    "print(result)"
   ]
  },
  {
   "cell_type": "markdown",
   "metadata": {
    "id": "Sf7u1qUdrXYh"
   },
   "source": [
    "Це чудовий результат із високим показником тесту і P-value майже 0, що передбачає впевнену статистичну значущість. Але чи означає це, що всі три досліджувані групи сильно відрізняються між собою?\n",
    "\n",
    "Розглянемо їх окремо."
   ]
  },
  {
   "cell_type": "markdown",
   "metadata": {
    "id": "RW9RUDdyrXYh"
   },
   "source": [
    "<h4>fwd and rwd</h4>\n"
   ]
  },
  {
   "cell_type": "code",
   "execution_count": null,
   "metadata": {
    "id": "9k9Ug2yyrXYi"
   },
   "outputs": [],
   "source": [
    "f_val, p_val = stats.f_oneway(grouped_test2.get_group('fwd')['price'], grouped_test2.get_group('rwd')['price'])\n",
    "\n",
    "print( \"ANOVA results: F=\", f_val, \", P =\", p_val )"
   ]
  },
  {
   "cell_type": "markdown",
   "metadata": {
    "id": "PW9_rmXCrXYi"
   },
   "source": [
    " Розглянемо інші групи.\n"
   ]
  },
  {
   "cell_type": "markdown",
   "metadata": {
    "id": "vkBGI_p6rXYi"
   },
   "source": [
    "<h4>4wd and rwd</h4>\n"
   ]
  },
  {
   "cell_type": "code",
   "execution_count": null,
   "metadata": {
    "id": "prfn6KukrXYi",
    "scrolled": true
   },
   "outputs": [],
   "source": [
    "f_val, p_val = stats.f_oneway(grouped_test2.get_group('4wd')['price'], grouped_test2.get_group('rwd')['price'])\n",
    "\n",
    "print( \"ANOVA results: F=\", f_val, \", P =\", p_val)"
   ]
  },
  {
   "cell_type": "markdown",
   "metadata": {
    "id": "02usZQa4rXYi"
   },
   "source": [
    "<h4>4wd and fwd</h4>\n"
   ]
  },
  {
   "cell_type": "code",
   "execution_count": null,
   "metadata": {
    "id": "9JLhLgCsrXYi"
   },
   "outputs": [],
   "source": [
    "f_val, p_val = stats.f_oneway(grouped_test2.get_group('4wd')['price'], grouped_test2.get_group('fwd')['price'])\n",
    "\n",
    "print(\"ANOVA results: F=\", f_val, \", P =\", p_val)"
   ]
  },
  {
   "cell_type": "markdown",
   "metadata": {
    "id": "ajgfufxqrXYj"
   },
   "source": [
    "Ми помітили, що дисперсійний аналіз для категорій \"4wd\" і \"fwd\" дає високий p-value > 0.1, тому розрахований показник F-тесту не є статистично значущим. Це говорить про те, що ми не можемо відкинути припущення, що середні значення цих двох груп однакові, або, іншими словами, ми не можемо зробити висновок про значущість різниці."
   ]
  },
  {
   "cell_type": "markdown",
   "metadata": {
    "id": "bLWME13frXYj"
   },
   "source": [
    "<h3>Висновок: важливі ознаки</h3>\n"
   ]
  },
  {
   "cell_type": "markdown",
   "metadata": {
    "id": "HuYYxH9ArXYj"
   },
   "source": [
    "<p>Тепер ми маємо краще уявлення про те, як виглядають наші дані та які ознаки важливо враховувати під час прогнозування ціни автомобіля. Ми звузили датасет до таких змінних:</p>\n",
    "\n",
    "Кількісні змінні:\n",
    "<ul>\n",
    "    <li>Length</li>\n",
    "    <li>Width</li>\n",
    "    <li>Curb-weight</li>\n",
    "    <li>Engine-size</li>\n",
    "    <li>Horsepower</li>\n",
    "    <li>City-mpg</li>\n",
    "    <li>Highway-mpg</li>\n",
    "    <li>Wheel-base</li>\n",
    "    <li>Bore</li>\n",
    "</ul>\n",
    "    \n",
    "Якісні змінні:\n",
    "<ul>\n",
    "    <li>Drive-wheels</li>\n",
    "</ul>\n",
    "\n",
    "<p>В наступній роботі перейдемо до створення моделей машинного навчання для автоматизації аналізу, в модель включатимо лише ті ознаки, які суттєво впливають на цільову змінну, що покращить ефективність прогнозування моделі.</p>\n"
   ]
  },
  {
   "cell_type": "markdown",
   "metadata": {
    "id": "KWGCgm6YaCoM"
   },
   "source": [
    "*В теоретичній частині роботи використано елементи курсу \"Data Analysis with Python\" від IBM Corporation, автор\n",
    "<a href=\"https://www.linkedin.com/in/joseph-s-50398b136/?utm_medium=Exinfluencer&utm_source=Exinfluencer&utm_content=000026UJ&utm_term=10006555&utm_id=NA-SkillsNetwork-Channel-SkillsNetworkCoursesIBMDeveloperSkillsNetworkDA0101ENSkillsNetwork971-2022-01-01\" target=\"_blank\">Joseph Santarcangelo</a>*"
   ]
  }
 ],
 "metadata": {
  "colab": {
   "provenance": [],
   "toc_visible": true
  },
  "kernelspec": {
   "display_name": "Python 3",
   "language": "python",
   "name": "python3"
  },
  "language_info": {
   "codemirror_mode": {
    "name": "ipython",
    "version": 3
   },
   "file_extension": ".py",
   "mimetype": "text/x-python",
   "name": "python",
   "nbconvert_exporter": "python",
   "pygments_lexer": "ipython3",
   "version": "3.13.2"
  }
 },
 "nbformat": 4,
 "nbformat_minor": 0
}
