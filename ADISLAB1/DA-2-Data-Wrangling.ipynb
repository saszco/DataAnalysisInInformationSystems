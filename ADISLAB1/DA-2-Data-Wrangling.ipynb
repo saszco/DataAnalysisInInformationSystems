{
 "cells": [
  {
   "cell_type": "markdown",
   "metadata": {
    "id": "HezUORfnfm9u"
   },
   "source": [
    "\n",
    "\n",
    "# Підготовка даних до аналізу\n",
    "\n",
    "\n",
    "\n",
    "\n"
   ]
  },
  {
   "cell_type": "markdown",
   "metadata": {
    "id": "WflJAvIvfm9y"
   },
   "source": [
    "<h2>Мета</h2>\n",
    "\n",
    "Ознайомитись з методикою первинної обробки даних. Після завершення цієї лабораторної роботи ви зможете:\n",
    "\n",
    "* Досліджувати структуру завантажених даних\n",
    "* Виправляти формати даних\n",
    "* Знаходити та заповнювати пропуски в даних\n",
    "* Знаходити викиди та некоректні значення\n",
    "* Будувати прості візуалізації\n",
    "\n",
    "Приблизний час виконання: **60** хвилин\n"
   ]
  },
  {
   "cell_type": "markdown",
   "metadata": {
    "id": "JLNxk9NHfm9z"
   },
   "source": [
    "# <h2>Зміст</h2>\n",
    "\n",
    "<div class=\"alert alert-block alert-info\" style=\"margin-top: 20px\">\n",
    "<h3>Завдання для тренування</h3>\n",
    "<ul>\n",
    "    <li><a href=\"#data_acquisition\">Завантаження даних</a>\n",
    "    <li><a href=\"#identify_handle_missing_values\">Виявлення та обробка відсутніх значень</a>\n",
    "    <li><a href=\"#data_standardization\">Стандартизація даних</a></li>\n",
    "    <li><a href=\"#data_normalization\">Нормалізація даних (центрування/масштабування)</a></li>\n",
    "    <li><a href=\"#binning\">Групування даних</a></li>\n",
    "    <li><a href=\"#indicator\">Індикаторні змінні</a></li>\n",
    "</ul>\n",
    "\n",
    "</div>\n",
    "\n",
    "<hr>"
   ]
  },
  {
   "cell_type": "markdown",
   "metadata": {
    "id": "A0sebAU0fm96"
   },
   "source": [
    "<a name=\"data_acquisition\"></a>\n",
    "## <h2>Завантаження даних з файлу або за URL</h2>\n"
   ]
  },
  {
   "cell_type": "markdown",
   "metadata": {
    "id": "m-lGn8lqfm91"
   },
   "source": [
    "<h3>Джерело даних</h3>\n",
    "<p>\n",
    "Існують різні формати для набору даних: .csv, .json, .xlsx  etc. Набір даних можна зберігати в різних місцях: на вашій локальній машині або онлайн.<br>\n",
    "\n",
    "У нашому випадку набір даних \"Automobile Dataset\" є онлайн-джерелом у форматі CSV (значення, розділені комами).\n",
    "<ul>\n",
    "    <li>Джерело даних: <a href=\"https://archive.ics.uci.edu/ml/machine-learning-databases/autos/imports-85.data?utm_medium=Exinfluencer&utm_source=Exinfluencer&utm_content=000026UJ&utm_term=10006555&utm_id=NA-SkillsNetwork-Channel-SkillsNetworkCoursesIBMDeveloperSkillsNetworkDA0101ENSkillsNetwork971-2022-01-01\" target=\"_blank\">https://archive.ics.uci.edu/ml/machine-learning-databases/autos/imports-85.data</a></li>\n",
    "    <li>Тип даних: csv</li>\n",
    "</ul>\n",
    "</p>\n",
    "\n"
   ]
  },
  {
   "cell_type": "markdown",
   "metadata": {
    "id": "IBgqiP1Rfm92"
   },
   "source": [
    "<h3>Імпорт бібліотек</h3>\n",
    "\n",
    "Бібліотека Pandas Library — це корисний інструмент, який дозволяє читати різні набори даних у датафрейм."
   ]
  },
  {
   "cell_type": "code",
   "execution_count": 3,
   "metadata": {
    "id": "f8DUR72hfm93"
   },
   "outputs": [
    {
     "name": "stdout",
     "output_type": "stream",
     "text": [
      "zsh:1: command not found: mamba\n",
      "zsh:1: command not found: mamba\n"
     ]
    }
   ],
   "source": [
    "#install specific version of libraries used in lab\n",
    "! mamba install pandas==1.3.3\n",
    "! mamba install numpy=1.21.2"
   ]
  },
  {
   "cell_type": "markdown",
   "metadata": {},
   "source": []
  },
  {
   "cell_type": "code",
   "execution_count": 5,
   "metadata": {
    "id": "fgGAsDQ7fm95"
   },
   "outputs": [
    {
     "name": "stdout",
     "output_type": "stream",
     "text": [
      "Requirement already satisfied: pandas in ./.venv/lib/python3.13/site-packages (2.2.3)\n",
      "Requirement already satisfied: numpy>=1.26.0 in ./.venv/lib/python3.13/site-packages (from pandas) (2.2.2)\n",
      "Requirement already satisfied: python-dateutil>=2.8.2 in ./.venv/lib/python3.13/site-packages (from pandas) (2.9.0.post0)\n",
      "Requirement already satisfied: pytz>=2020.1 in ./.venv/lib/python3.13/site-packages (from pandas) (2025.1)\n",
      "Requirement already satisfied: tzdata>=2022.7 in ./.venv/lib/python3.13/site-packages (from pandas) (2025.1)\n",
      "Requirement already satisfied: six>=1.5 in ./.venv/lib/python3.13/site-packages (from python-dateutil>=2.8.2->pandas) (1.17.0)\n",
      "Note: you may need to restart the kernel to use updated packages.\n",
      "Collecting matplotlib\n",
      "  Downloading matplotlib-3.10.0-cp313-cp313-macosx_11_0_arm64.whl.metadata (11 kB)\n",
      "Collecting contourpy>=1.0.1 (from matplotlib)\n",
      "  Downloading contourpy-1.3.1-cp313-cp313-macosx_11_0_arm64.whl.metadata (5.4 kB)\n",
      "Collecting cycler>=0.10 (from matplotlib)\n",
      "  Using cached cycler-0.12.1-py3-none-any.whl.metadata (3.8 kB)\n",
      "Collecting fonttools>=4.22.0 (from matplotlib)\n",
      "  Downloading fonttools-4.56.0-cp313-cp313-macosx_10_13_universal2.whl.metadata (101 kB)\n",
      "Collecting kiwisolver>=1.3.1 (from matplotlib)\n",
      "  Downloading kiwisolver-1.4.8-cp313-cp313-macosx_11_0_arm64.whl.metadata (6.2 kB)\n",
      "Requirement already satisfied: numpy>=1.23 in ./.venv/lib/python3.13/site-packages (from matplotlib) (2.2.2)\n",
      "Requirement already satisfied: packaging>=20.0 in ./.venv/lib/python3.13/site-packages (from matplotlib) (24.2)\n",
      "Collecting pillow>=8 (from matplotlib)\n",
      "  Downloading pillow-11.1.0-cp313-cp313-macosx_11_0_arm64.whl.metadata (9.1 kB)\n",
      "Collecting pyparsing>=2.3.1 (from matplotlib)\n",
      "  Using cached pyparsing-3.2.1-py3-none-any.whl.metadata (5.0 kB)\n",
      "Requirement already satisfied: python-dateutil>=2.7 in ./.venv/lib/python3.13/site-packages (from matplotlib) (2.9.0.post0)\n",
      "Requirement already satisfied: six>=1.5 in ./.venv/lib/python3.13/site-packages (from python-dateutil>=2.7->matplotlib) (1.17.0)\n",
      "Downloading matplotlib-3.10.0-cp313-cp313-macosx_11_0_arm64.whl (8.0 MB)\n",
      "\u001b[2K   \u001b[90m━━━━━━━━━━━━━━━━━━━━━━━━━━━━━━━━━━━━━━━━\u001b[0m \u001b[32m8.0/8.0 MB\u001b[0m \u001b[31m6.1 MB/s\u001b[0m eta \u001b[36m0:00:00\u001b[0ma \u001b[36m0:00:01\u001b[0m\n",
      "\u001b[?25hDownloading contourpy-1.3.1-cp313-cp313-macosx_11_0_arm64.whl (255 kB)\n",
      "Using cached cycler-0.12.1-py3-none-any.whl (8.3 kB)\n",
      "Downloading fonttools-4.56.0-cp313-cp313-macosx_10_13_universal2.whl (2.7 MB)\n",
      "\u001b[2K   \u001b[90m━━━━━━━━━━━━━━━━━━━━━━━━━━━━━━━━━━━━━━━━\u001b[0m \u001b[32m2.7/2.7 MB\u001b[0m \u001b[31m6.6 MB/s\u001b[0m eta \u001b[36m0:00:00\u001b[0ma \u001b[36m0:00:01\u001b[0m\n",
      "\u001b[?25hDownloading kiwisolver-1.4.8-cp313-cp313-macosx_11_0_arm64.whl (65 kB)\n",
      "Downloading pillow-11.1.0-cp313-cp313-macosx_11_0_arm64.whl (3.1 MB)\n",
      "\u001b[2K   \u001b[90m━━━━━━━━━━━━━━━━━━━━━━━━━━━━━━━━━━━━━━━━\u001b[0m \u001b[32m3.1/3.1 MB\u001b[0m \u001b[31m4.2 MB/s\u001b[0m eta \u001b[36m0:00:00\u001b[0ma \u001b[36m0:00:01\u001b[0m\n",
      "\u001b[?25hUsing cached pyparsing-3.2.1-py3-none-any.whl (107 kB)\n",
      "Installing collected packages: pyparsing, pillow, kiwisolver, fonttools, cycler, contourpy, matplotlib\n",
      "Successfully installed contourpy-1.3.1 cycler-0.12.1 fonttools-4.56.0 kiwisolver-1.4.8 matplotlib-3.10.0 pillow-11.1.0 pyparsing-3.2.1\n",
      "Note: you may need to restart the kernel to use updated packages.\n"
     ]
    }
   ],
   "source": [
    "%pip install pandas\n",
    "%pip install matplotlib\n",
    "\n",
    "\n",
    "import pandas as pd\n",
    "import matplotlib.pylab as plt\n"
   ]
  },
  {
   "cell_type": "markdown",
   "metadata": {
    "id": "THJWE6Cpfm96"
   },
   "source": [
    "<p>\n",
    "Використаємо функцію <code>pandas.read_csv()</code> для читання csv файлу. У дужках поміщаємо шлях до файлу разом із лапками, щоб pandas читала файл у датафрейм із цієї адреси. Шляхом до файлу може бути URL-адреса або адреса локального файлу. Адресу датасету зручно записати до змінної \"filename\". <br>\n",
    "\n",
    "Ви також можете призначити набір даних будь-якій створеній змінній.\n",
    "</p>"
   ]
  },
  {
   "cell_type": "markdown",
   "metadata": {
    "id": "9tFJTz88fm97"
   },
   "source": [
    "<h3>Завантаження даних з файлу на Google-диску, якщо використовуєте Google Colaboratory</h3>\n",
    "\n",
    "Якщо ви скачали датасет на свій диск, то для доступу до файлу спочатку потрібно підключити Google Диск до середовища виконання. Підказку як це зробити дивіться тут <a href=\"https://colab.research.google.com/notebooks/io.ipynb?hl=ua#scrollTo=u22w3BFiOveA\">https://colab.research.google.com/notebooks/io.ipynb</a>.\n",
    "\n",
    "Ви можете лише переглядати, записувати й переміщувати файли.\n"
   ]
  },
  {
   "cell_type": "code",
   "execution_count": null,
   "metadata": {
    "colab": {
     "base_uri": "https://localhost:8080/"
    },
    "executionInfo": {
     "elapsed": 26274,
     "status": "ok",
     "timestamp": 1688805065293,
     "user": {
      "displayName": "Tetiana Likhouzova",
      "userId": "11267802752553823149"
     },
     "user_tz": -180
    },
    "id": "VaBAPNRin6Ao",
    "outputId": "933e4ddb-52fe-4f89-fe06-eec13cdbbbce"
   },
   "outputs": [
    {
     "name": "stdout",
     "output_type": "stream",
     "text": [
      "Mounted at /content/drive\n"
     ]
    }
   ],
   "source": [
    "from google.colab import drive\n",
    "drive.mount('/content/drive')"
   ]
  },
  {
   "cell_type": "code",
   "execution_count": null,
   "metadata": {
    "id": "Z397nra8fm98"
   },
   "outputs": [],
   "source": [
    "filename = \"/content/drive/My Drive/auto.csv\" # коренева папка вашого диску\n",
    "filename = \"/content/drive/My Drive/data/auto.csv\" # не коренева папка вашого диску"
   ]
  },
  {
   "cell_type": "markdown",
   "metadata": {
    "id": "xKcXsmaRBsAi"
   },
   "source": [
    "<h3>Завантаження даних з файлу на локальному комп'ютері, якщо використовуєте Jupyter Notebook</h3>\n",
    "\n",
    "Якщо ви скачали датасет на локальний комп'ютер і розмістили там же, де і блокнот, тоді шлях до нього вказуйте так:"
   ]
  },
  {
   "cell_type": "code",
   "execution_count": null,
   "metadata": {
    "id": "mtem25zDBtPf"
   },
   "outputs": [],
   "source": [
    "filename = \"auto.csv\""
   ]
  },
  {
   "cell_type": "markdown",
   "metadata": {
    "id": "hqRPrp2Kfm97"
   },
   "source": [
    "<h3>Завантаження даних за URL</h3>\n",
    "\n",
    "Потрібний нам датасет зберігається як IBM Cloud object. Запишемо URL датасету до змінної \"filename\".\n"
   ]
  },
  {
   "cell_type": "code",
   "execution_count": null,
   "metadata": {
    "id": "dU9DjyLDfm97"
   },
   "outputs": [],
   "source": [
    "filename = \"https://cf-courses-data.s3.us.cloud-object-storage.appdomain.cloud/IBMDeveloperSkillsNetwork-DA0101EN-SkillsNetwork/labs/Data%20files/auto.csv\""
   ]
  },
  {
   "cell_type": "markdown",
   "metadata": {
    "id": "qJSGQ6pYfm98"
   },
   "source": [
    "<h3>Читання даних</h3>\n",
    "\n",
    "Використовуємо метод <code>read_csv()</code> з Pandas для завантаження даних. Оскільки дані не містять заголовків, можемо додати аргумент <code>headers = None</code> в метод <code>read_csv()</code> щоб pandas не встановлювала перший рядок автоматично як заголовок.\n"
   ]
  },
  {
   "cell_type": "code",
   "execution_count": null,
   "metadata": {
    "id": "NGi4L4alfm98"
   },
   "outputs": [],
   "source": [
    "df = pd.read_csv(filename, header=None)"
   ]
  },
  {
   "cell_type": "markdown",
   "metadata": {
    "id": "UfXn1BbUfm9z"
   },
   "source": [
    "<h2>Для чого роблять попередню обробку даних?</h2>\n",
    "\n",
    "Попередня обробка даних - це процес перетворення даних з їх початкового вигляду у вигляд, зручний для аналізу."
   ]
  },
  {
   "cell_type": "markdown",
   "metadata": {
    "id": "uUicJwFsfm99"
   },
   "source": [
    "Після прочитання набору даних можемо використати метод <code>dataframe.head(n)</code>, щоб перевірити n верхніх рядків датафрейму, де n — ціле число. На відміну від <code>dataframe.head(n)</code>, <code>dataframe.tail(n)</code> покаже вам n нижніх рядків."
   ]
  },
  {
   "cell_type": "code",
   "execution_count": null,
   "metadata": {
    "id": "Hv_EsjGofm99"
   },
   "outputs": [],
   "source": [
    "df.head()"
   ]
  },
  {
   "cell_type": "markdown",
   "metadata": {
    "id": "mWiGZ3Txfm9-"
   },
   "source": [
    "<p>\n",
    "Подивіться на набір даних. Pandas автоматично встановлює заголовок із цілим числом, починаючи з 0.\n",
    "</p>\n",
    "<p>\n",
    "Щоб краще описати наші дані, можемо додати заголовок. Ця інформація доступна за адресою:  <a href=\"https://archive.ics.uci.edu/ml/datasets/Automobile?utm_medium=Exinfluencer&utm_source=Exinfluencer&utm_content=000026UJ&utm_term=10006555&utm_id=NA-SkillsNetwork-Channel-SkillsNetworkCoursesIBMDeveloperSkillsNetworkDA0101ENSkillsNetwork971-2022-01-01\" target=\"_blank\">https://archive.ics.uci.edu/ml/datasets/Automobile</a>.\n",
    "</p>\n",
    "<p>\n",
    "Отже, ми повинні додати заголовки вручну.\n",
    "</p>\n",
    "<p>\n",
    "Спочатку створюємо список 'headers', який містить усі назви стовпців по порядку.\n",
    "Потім використовуємо <code>dataframe.columns = headers</code> для заміни заголовків створеним нами списком.\n",
    "</p>"
   ]
  },
  {
   "cell_type": "markdown",
   "metadata": {
    "id": "PTCy_672fm9-"
   },
   "source": [
    "Створюємо Python list 'headers', що містить заголовки стовпчиків - назви ознак.\n"
   ]
  },
  {
   "cell_type": "code",
   "execution_count": null,
   "metadata": {
    "id": "ViTt7wAffm9-"
   },
   "outputs": [],
   "source": [
    "headers = [\"symboling\",\"normalized-losses\",\"make\",\"fuel-type\",\"aspiration\", \"num-of-doors\",\"body-style\",\n",
    "         \"drive-wheels\",\"engine-location\",\"wheel-base\", \"length\",\"width\",\"height\",\"curb-weight\",\"engine-type\",\n",
    "         \"num-of-cylinders\", \"engine-size\",\"fuel-system\",\"bore\",\"stroke\",\"compression-ratio\",\"horsepower\",\n",
    "         \"peak-rpm\",\"city-mpg\",\"highway-mpg\",\"price\"]"
   ]
  },
  {
   "cell_type": "markdown",
   "metadata": {
    "id": "26QRMpi8fm9-"
   },
   "source": [
    "Замінюємо заголовки та повторно перевіряємо наш датафрейм:\n"
   ]
  },
  {
   "cell_type": "code",
   "execution_count": null,
   "metadata": {
    "id": "sAo8yFbPfm9_"
   },
   "outputs": [],
   "source": [
    "df.columns = headers\n",
    "df.head(10)"
   ]
  },
  {
   "cell_type": "markdown",
   "metadata": {
    "id": "_z1ysYpWfm9_"
   },
   "source": [
    "У відображеному фрагменті бачимо кілька знаків питання; це відсутні значення, які можуть перешкодити подальшому аналізу.\n",
    "\n",
    "<b>Що робити з відсутніми значеннями?</b>\n",
    "\n",
    "<ol>\n",
    "    <li>Виявити всі відсутні значення</li>\n",
    "    <li>Замінити значення або видалити спостереження чи ознаки</li>\n",
    "    <li>Скоригувати формат даних</li>\n",
    "</ol>\n"
   ]
  },
  {
   "cell_type": "markdown",
   "metadata": {
    "id": "1gltuLCufm9_"
   },
   "source": [
    "<a name=\"identify_handle_missing_values\"></a>\n",
    "## <h2>Виявлення та обробка відсутніх значень</h2>\n",
    "\n",
    "\n"
   ]
  },
  {
   "cell_type": "markdown",
   "metadata": {
    "id": "ZfGZTOcXfm9_"
   },
   "source": [
    "<h3 id=\"identify_missing_values\">Виявлення відсутніх значень</h3>\n",
    "\n",
    "Використовуємо метод <b>info()</b> для відображення основної інформації про датафрейм.\n"
   ]
  },
  {
   "cell_type": "code",
   "execution_count": null,
   "metadata": {
    "id": "WVxZ3tbofm-A"
   },
   "outputs": [],
   "source": [
    "df.info()"
   ]
  },
  {
   "cell_type": "markdown",
   "metadata": {
    "id": "lwD8nV9Qfm-A"
   },
   "source": [
    " Використовуємо метод <b>describe()</b> для відображення більш детальної інформації про датафрейм.\n"
   ]
  },
  {
   "cell_type": "code",
   "execution_count": null,
   "metadata": {
    "id": "7cXE07cyfm-A"
   },
   "outputs": [],
   "source": [
    "df.describe()"
   ]
  },
  {
   "cell_type": "markdown",
   "metadata": {
    "id": "2v5MVLz7fm-A"
   },
   "source": [
    "<p>\n",
    "Бачимо статистичний підсумок усіх стовпців із числовим типом (int, float).<br>\n",
    "\n",
    "Наприклад, ознака 'symboling' має 205 одиниць, середнє значення цього стовпця становить 0.83, стандартне відхилення — 1.25, мінімальне значення — -2, 25-й процентиль — 0, 50-й процентиль — 1, 75-й процентиль — 2 і максимальне значення 3.\n",
    "<br><br>\n",
    "\n",
    "Але що, якщо ми також хочемо перевірити всі стовпці, включаючи ті, які мають тип об’єкт?\n",
    "<br>\n",
    "Можна додати аргумент <code>include = \"all\"</code> у дужку.\n",
    "\n",
    "</p>"
   ]
  },
  {
   "cell_type": "code",
   "execution_count": null,
   "metadata": {
    "id": "0LGgpwd9fm-A"
   },
   "outputs": [],
   "source": [
    "df.describe(include = \"all\")"
   ]
  },
  {
   "cell_type": "markdown",
   "metadata": {
    "id": "BJy4hbuZfm-B"
   },
   "source": [
    "<p>\n",
    "Тепер він надає статистичний підсумок усіх стовпців, включаючи атрибути типу object, і можемо побачити скільки там унікальних значень, яке з них є верхнім значенням і частоту верхнього значення в стовпцях типу object.<br>\n",
    "\n",
    "Деякі значення в таблиці відображаються як \"NaN\". Це тому, що ці числа недоступні для певного типу стовпця.<br>\n",
    "</p>"
   ]
  },
  {
   "cell_type": "markdown",
   "metadata": {
    "id": "XErRhughfm-B"
   },
   "source": [
    "<h4>Заміна \"?\" на NaN</h4>\n",
    "\n",
    "В датасеті про автомобілі відсутні дані позначені знаком \"?\".\n",
    "Ми замінимо \"?\" на NaN (Not a Number), Python за замовчуванням позначає відсутні дані саме так для пришвидшення обчислень та зручності. Використовуємо функцію:\n",
    " <pre>.replace(A, B, inplace = True) </pre>\n",
    "\n",
    "для заміни A на B.\n"
   ]
  },
  {
   "cell_type": "code",
   "execution_count": null,
   "metadata": {
    "id": "Epnujo_Ofm-B"
   },
   "outputs": [],
   "source": [
    "import numpy as np\n",
    "\n",
    "# заміна \"?\" на NaN\n",
    "df.replace(\"?\", np.nan, inplace = True)\n",
    "df.head(5)"
   ]
  },
  {
   "cell_type": "markdown",
   "metadata": {
    "id": "9g1Yo_Hufm-B"
   },
   "source": [
    "Інколи потрібно виконати заміну не всього значення, а лише його частини. Наприклад, замінити коми на крапки в числах, щоб потім змінити тип даних на числовий. Тоді спочатку змінюємо тип на строковий, виконуємо заміну ком на крапки, і знову міняємо тип на числовий:\n",
    " <pre>.astype(\"str\").str.replace(',', '.').astype(\"float\") </pre>\n"
   ]
  },
  {
   "cell_type": "markdown",
   "metadata": {
    "id": "wgeewoYpfm-B"
   },
   "source": [
    "<h4>Оцінка відсутніх даних</h4>\n",
    "\n",
    "Відсутні значення конвертуються за замовчуванням. Існує два методи для виявлення відсутніх даних:\n",
    "<ol>\n",
    "    <li><b>.isnull()</b></li>\n",
    "    <li><b>.notnull()</b></li>\n",
    "</ol>\n",
    "\n",
    "Результатом є логічне значення, яке вказує, чи значення, яке передається в аргумент, насправді є відсутніми даними.\n"
   ]
  },
  {
   "cell_type": "code",
   "execution_count": null,
   "metadata": {
    "id": "RkKb4dEBfm-C"
   },
   "outputs": [],
   "source": [
    "missing_data = df.isnull()\n",
    "missing_data.head(5)"
   ]
  },
  {
   "cell_type": "markdown",
   "metadata": {
    "id": "7r1FSb2Tfm-C"
   },
   "source": [
    "\"True\" означає відсутнє значення, а \"False\" означає, що значення присутнє в наборі даних."
   ]
  },
  {
   "cell_type": "markdown",
   "metadata": {
    "id": "M9pyZ1Wrfm-P"
   },
   "source": [
    "<h4>Підрахунок відсутніх значень в кожному стовпчику</h4>\n",
    "<p>\n",
    "Використовуючи цикл <code>for</code> у Python, ми можемо швидко визначити кількість пропущених значень у кожному стовпці. У тілі циклу <code>for</code> метод <code>.value_counts()</code> підраховує кількість значень \"True\".    \n",
    "</p>\n"
   ]
  },
  {
   "cell_type": "code",
   "execution_count": null,
   "metadata": {
    "id": "Cs1jh5i4fm-P"
   },
   "outputs": [],
   "source": [
    "for column in missing_data.columns.values.tolist():\n",
    "    print(column)\n",
    "    print (missing_data[column].value_counts())\n",
    "    print(\"\")"
   ]
  },
  {
   "cell_type": "markdown",
   "metadata": {
    "id": "gFqV6zvgfm-Q"
   },
   "source": [
    "Виходячи з наведеного вище підсумку, кожен стовпець містить 205 рядків даних і сім стовпців містять відсутні дані:\n",
    "<ol>\n",
    "    <li>\"normalized-losses\": 41 відсутнє значення</li>\n",
    "    <li>\"num-of-doors\": 2 відсутніх значення</li>\n",
    "    <li>\"bore\": 4 відсутніх значення</li>\n",
    "    <li>\"stroke\" : 4 відсутніх значення</li>\n",
    "    <li>\"horsepower\": 2 відсутніх значення</li>\n",
    "    <li>\"peak-rpm\": 2 відсутніх значення</li>\n",
    "    <li>\"price\": 4 відсутніх значення</li>\n",
    "</ol>\n"
   ]
  },
  {
   "cell_type": "markdown",
   "metadata": {
    "id": "FDQwpzAMfm-Q"
   },
   "source": [
    "<h3 id=\"deal_missing_values\">Обробка відсутніх значень</h3>\n",
    "\n",
    "<b>Як обробити відсутні значення?</b>\n",
    "\n",
    "<ol>\n",
    "    <li>Видалити дані<br>\n",
    "        a. Видалити весь рядок (спостереження)<br>\n",
    "        b. Видалити весь стовпчик (ознаку)\n",
    "    </li>\n",
    "    <li>Замінити дані<br>\n",
    "        a. Замінити середнім значенням<br>\n",
    "        b. Замінити модою (значенням, що зустрічається найчастіше)<br>\n",
    "        c. Замінити значенням, порахованим за якоюсь іншою фунцією\n",
    "    </li>\n",
    "</ol>\n"
   ]
  },
  {
   "cell_type": "markdown",
   "metadata": {
    "id": "pAfW5qlZfm-Q"
   },
   "source": [
    "Весь стовпчик слід видаляти, лише якщо більшість записів у ньому відсутні. У нашому наборі даних жоден зі стовпців не є настільки порожнім, щоб повністю його видалити.\n",
    "Ми маємо певну свободу у виборі методу заміни даних; однак деякі методи можуть здатися більш розумними, ніж інші. Застосуємо наступні методи до вказаних стовпців:\n",
    "\n",
    "<b>Заміна середнім значенням:</b>\n",
    "<ul>\n",
    "    <li>'normalized-losses': 41 відсутнє значення, замінимо їх середнім значенням</li>\n",
    "    <li>'stroke': 4 відсутніх значення, замінимо їх середнім значенням</li>\n",
    "    <li>'bore': 4 відсутніх значення, замінимо їх середнім значенням</li>\n",
    "    <li>'horsepower': 2 відсутніх значення, замінимо їх середнім значенням</li>\n",
    "    <li>'peak-rpm': 2 відсутніх значення, замінимо їх середнім значенням</li>\n",
    "</ul>\n",
    "\n",
    "<b>Заміна модою:</b>\n",
    "<ul>\n",
    "    <li>'num-of-doors': 2 відсутніх значення, замінимо їх значенням \"four\".\n",
    "        <ul>\n",
    "            <li>Причина: 84% седанів - чотиридверні. Оскільки чотири двері найчастіше зустрічаються, це найбільш ймовірне значення</li>\n",
    "        </ul>\n",
    "    </li>\n",
    "</ul>\n",
    "\n",
    "<b>Видалити весь рядок:</b>\n",
    "<ul>\n",
    "    <li>'price': 4 відсутніх значення, просто видалимо весь рядок\n",
    "        <ul>\n",
    "            <li>Причина: ціна - це те, що ми хочемо передбачити. Будь-яке введення даних без інформації про ціну не можна використовувати для прогнозу; тому будь-який рядок без даних про ціну нам не корисний</li>\n",
    "        </ul>\n",
    "    </li>\n",
    "</ul>\n"
   ]
  },
  {
   "cell_type": "markdown",
   "metadata": {
    "id": "0YkK406vfm-Q"
   },
   "source": [
    "<h4>Обчислення середнього значення для ознаки 'normalized-losses'  </h4>\n"
   ]
  },
  {
   "cell_type": "code",
   "execution_count": null,
   "metadata": {
    "id": "9pQZUtK2fm-Q"
   },
   "outputs": [],
   "source": [
    "avg_norm_loss = df['normalized-losses'].astype('float').mean(axis=0)\n",
    "print(\"Average of normalized-losses:\", avg_norm_loss)"
   ]
  },
  {
   "cell_type": "markdown",
   "metadata": {
    "id": "lnLu37DFfm-R"
   },
   "source": [
    "<h4>Заміна \"NaN\" на середнє значення ознаки 'normalized-losses'</h4>\n"
   ]
  },
  {
   "cell_type": "code",
   "execution_count": null,
   "metadata": {
    "id": "rgPdLqEbfm-R"
   },
   "outputs": [],
   "source": [
    "# df['normalized-losses'].replace(np.nan, avg_norm_loss, inplace=True)\n",
    "df.replace({'normalized-losses':np.nan}, avg_norm_loss, inplace=True)"
   ]
  },
  {
   "cell_type": "markdown",
   "metadata": {
    "id": "9OIj-ZPffm-R"
   },
   "source": [
    "<h4>Обчислення середнього значення для ознаки 'bore'</h4>\n"
   ]
  },
  {
   "cell_type": "code",
   "execution_count": null,
   "metadata": {
    "id": "mwGF7tLMfm-R"
   },
   "outputs": [],
   "source": [
    "avg_bore=df['bore'].astype('float').mean(axis=0)\n",
    "print(\"Average of bore:\", avg_bore)"
   ]
  },
  {
   "cell_type": "markdown",
   "metadata": {
    "id": "zfsvjdPNfm-R"
   },
   "source": [
    "<h4>Заміна \"NaN\" на середнє значення ознаки 'bore'</h4>\n"
   ]
  },
  {
   "cell_type": "code",
   "execution_count": null,
   "metadata": {
    "id": "pd9nHa2Tfm-S"
   },
   "outputs": [],
   "source": [
    "# df['bore'].replace(np.nan, avg_bore, inplace=True)\n",
    "df.replace({'bore':np.nan}, avg_bore, inplace=True)"
   ]
  },
  {
   "cell_type": "markdown",
   "metadata": {
    "id": "DE_JQg4Efm-S"
   },
   "source": [
    "<div class=\"alert alert-success alertsuccess\" style=\"margin-top: 20px\">\n",
    "<h2> Завдання  #1: </h2>\n",
    "\n",
    "<p>Спираючись на попередні приклади, замініть NaN для ознаки 'stroke' середніми значеннями.</p>\n",
    "</div>\n"
   ]
  },
  {
   "cell_type": "code",
   "execution_count": null,
   "metadata": {
    "id": "94TvTh4ffm-S"
   },
   "outputs": [],
   "source": [
    "# Напишіть ваш код нижче та натисніть Shift+Enter для виконання\n"
   ]
  },
  {
   "cell_type": "markdown",
   "metadata": {
    "id": "FANoRJjnfm-T"
   },
   "source": [
    "<details><summary>Натисніть тут, щоб побачити підказку</summary>\n",
    "\n",
    "```python\n",
    "# Розрахунок середнього значення для ознаки \"stroke\"\n",
    "avg_stroke = df[\"stroke\"].astype(\"float\").mean(axis = 0)\n",
    "print(\"Average of stroke:\", avg_stroke)\n",
    "\n",
    "# Заміна NaN середнім значенням ознаки \"stroke\"\n",
    "df[\"stroke\"].replace(np.nan, avg_stroke, inplace = True)\n",
    "```\n",
    "\n",
    "</details>\n",
    "\n"
   ]
  },
  {
   "cell_type": "markdown",
   "metadata": {
    "id": "VsHtE3Qffm-T"
   },
   "source": [
    "<h4>Обчислення середнього значення для ознаки 'horsepower'</h4>\n"
   ]
  },
  {
   "cell_type": "code",
   "execution_count": null,
   "metadata": {
    "id": "aSGk6hJufm-U"
   },
   "outputs": [],
   "source": [
    "avg_horsepower = df['horsepower'].astype('float').mean(axis=0)\n",
    "print(\"Average horsepower:\", avg_horsepower)"
   ]
  },
  {
   "cell_type": "markdown",
   "metadata": {
    "id": "G85M7-DNfm-U"
   },
   "source": [
    "<h4>Заміна \"NaN\" на середнє значення ознаки 'horsepower'</h4>\n"
   ]
  },
  {
   "cell_type": "code",
   "execution_count": null,
   "metadata": {
    "id": "r4qjlQlkfm-X"
   },
   "outputs": [],
   "source": [
    "# df['horsepower'].replace(np.nan, avg_horsepower, inplace=True)\n",
    "df.replace({'horsepower':np.nan}, avg_horsepower, inplace=True)"
   ]
  },
  {
   "cell_type": "markdown",
   "metadata": {
    "id": "rGhHOn43fm-Y"
   },
   "source": [
    "<h4>Обчислення середнього значення для ознаки 'peak-rpm'</h4>\n"
   ]
  },
  {
   "cell_type": "code",
   "execution_count": null,
   "metadata": {
    "id": "LOut-aG-fm-Z"
   },
   "outputs": [],
   "source": [
    "avg_peakrpm=df['peak-rpm'].astype('float').mean(axis=0)\n",
    "print(\"Average peak rpm:\", avg_peakrpm)"
   ]
  },
  {
   "cell_type": "markdown",
   "metadata": {
    "id": "-L-_6W_Rfm-a"
   },
   "source": [
    "<h4>Заміна \"NaN\" на середнє значення ознаки 'peak-rpm'</h4>\n"
   ]
  },
  {
   "cell_type": "code",
   "execution_count": null,
   "metadata": {
    "id": "zA4BPkiwfm-a"
   },
   "outputs": [],
   "source": [
    "# df['peak-rpm'].replace(np.nan, avg_peakrpm, inplace=True)\n",
    "df.replace({'peak-rpm':np.nan}, avg_peakrpm, inplace=True)"
   ]
  },
  {
   "cell_type": "markdown",
   "metadata": {
    "id": "-SZK3KbHfm-b"
   },
   "source": [
    "<h4>Заміна пропусків в 'num-of-doors' значенням, що найчастіше зустрічається в датасеті</h4>\n"
   ]
  },
  {
   "cell_type": "markdown",
   "metadata": {
    "id": "rfyFud8Jfm-b"
   },
   "source": [
    "Щоб побачити, які значення присутні в певному стовпці, можемо використати метод <code>.value_counts()</code>:"
   ]
  },
  {
   "cell_type": "code",
   "execution_count": null,
   "metadata": {
    "id": "ZD-dO6HNfm-c"
   },
   "outputs": [],
   "source": [
    "df['num-of-doors'].value_counts()"
   ]
  },
  {
   "cell_type": "markdown",
   "metadata": {
    "id": "6L0Sg1vkfm-c"
   },
   "source": [
    "Бачимо, що чотири двері є найпоширенішим типом. Також можемо використовувати метод <code>.idxmax()</code>, щоб автоматично обчислити найпоширеніший тип:\n"
   ]
  },
  {
   "cell_type": "code",
   "execution_count": null,
   "metadata": {
    "id": "CcQpyDR1fm-c"
   },
   "outputs": [],
   "source": [
    "df['num-of-doors'].value_counts().idxmax()"
   ]
  },
  {
   "cell_type": "markdown",
   "metadata": {
    "id": "1bJD1lQzfm-c"
   },
   "source": [
    "Процедура заміни дуже схожа на ту, яку робили раніше:\n"
   ]
  },
  {
   "cell_type": "code",
   "execution_count": null,
   "metadata": {
    "id": "bLlEYYBzfm-d"
   },
   "outputs": [],
   "source": [
    "# заміна пропусків в 'num-of-doors' значенням, що найчастіше зустрічається в датасеті\n",
    "# df['num-of-doors'].replace(np.nan, 'four', inplace=True)\n",
    "df.replace({'num-of-doors':np.nan}, four, inplace=True)"
   ]
  },
  {
   "cell_type": "markdown",
   "metadata": {
    "id": "QyjTMoCGfm-e"
   },
   "source": [
    "<h4>Видалення рядків, де відсутні значення 'price'</h4>\n"
   ]
  },
  {
   "cell_type": "markdown",
   "metadata": {
    "id": "nQrjzGOjfm-e"
   },
   "source": [
    "Нарешті, видалимо всі рядки, які не містять даних про ціни:\n"
   ]
  },
  {
   "cell_type": "code",
   "execution_count": null,
   "metadata": {
    "id": "oIayqA48fm-e"
   },
   "outputs": [],
   "source": [
    "# просто видаляємо весь рядок з NaN в \"price\"\n",
    "df.dropna(subset=['price'], axis=0, inplace=True)\n",
    "\n",
    "# оновлюємо індекси, тому що видалили два рядки\n",
    "df.reset_index(drop=True, inplace=True)"
   ]
  },
  {
   "cell_type": "code",
   "execution_count": null,
   "metadata": {
    "id": "M8I6BKJffm-e"
   },
   "outputs": [],
   "source": [
    "df.head()"
   ]
  },
  {
   "cell_type": "markdown",
   "metadata": {
    "id": "vloia7pCfm-f"
   },
   "source": [
    "Тепер маємо датасет без пропущених значень.\n"
   ]
  },
  {
   "cell_type": "markdown",
   "metadata": {
    "id": "IKgQInyJfm-f"
   },
   "source": [
    "<h3 id=\"correct_data_format\">Виправлення форматів даних</h3>\n",
    "\n",
    "<p>Останнім етапом очищення даних є перевірка, що всі дані мають правильний формат (int, float, text або інші).</p>\n",
    "\n",
    "В Pandas використовуємо:\n",
    "<p><b>.dtype()</b> щоб перевірити тип даних</p>\n",
    "<p><b>.astype()</b> щоб змінити тип даних</p>\n"
   ]
  },
  {
   "cell_type": "markdown",
   "metadata": {
    "id": "aNHzdWtyfm-f"
   },
   "source": [
    "<h4>Переглянемо типи даних для кожного стовпця</h4>\n"
   ]
  },
  {
   "cell_type": "code",
   "execution_count": null,
   "metadata": {
    "id": "rPrA_xM5fm-f"
   },
   "outputs": [],
   "source": [
    "df.dtypes"
   ]
  },
  {
   "cell_type": "markdown",
   "metadata": {
    "id": "0nEwbcgzfm-g"
   },
   "source": [
    "<p>Як бачимо, деякі стовпці мають неправильний тип даних. Числові змінні повинні мати тип 'float' або 'int', а змінні з рядками, наприклад категорії, повинні мати тип 'object'. Наприклад, змінні 'bore' і 'stroke' є числовими значеннями, які описують двигуни, тому ми очікуємо, що вони будуть типу 'float' або 'int'; однак вони відображаються як тип 'object'. Потрібно перетворити типи даних у відповідний формат для кожного стовпця за допомогою методу <code>astype()</code>.</p>\n"
   ]
  },
  {
   "cell_type": "markdown",
   "metadata": {
    "id": "OaS_0o4Dfm-g"
   },
   "source": [
    "<h4>Перетворення типів даних у правильний формат</h4>\n"
   ]
  },
  {
   "cell_type": "code",
   "execution_count": null,
   "metadata": {
    "id": "w98wp8Wjfm-g"
   },
   "outputs": [],
   "source": [
    "df[[\"bore\", \"stroke\"]] = df[[\"bore\", \"stroke\"]].astype(\"float\")\n",
    "df[[\"normalized-losses\"]] = df[[\"normalized-losses\"]].astype(\"int\")\n",
    "df[[\"price\"]] = df[[\"price\"]].astype(\"float\")\n",
    "df[[\"peak-rpm\"]] = df[[\"peak-rpm\"]].astype(\"float\")"
   ]
  },
  {
   "cell_type": "markdown",
   "metadata": {
    "id": "QT2Geuumfm-h"
   },
   "source": [
    "Переглянемо типи стовпців після перетворення\n"
   ]
  },
  {
   "cell_type": "code",
   "execution_count": null,
   "metadata": {
    "id": "JAZSDGmXfm-h"
   },
   "outputs": [],
   "source": [
    "df.dtypes"
   ]
  },
  {
   "cell_type": "markdown",
   "metadata": {
    "id": "2MaP12DFfm-h"
   },
   "source": [
    "Тепер нарешті отримали очищений набір даних без пропущених значень з усіма даними у належному форматі.\n"
   ]
  },
  {
   "cell_type": "markdown",
   "metadata": {
    "id": "7TL6QaWZkbgK"
   },
   "source": [
    "<a name=\"data_standardization\"></a>\n",
    "## <h2>Стандартизація даних</h2>"
   ]
  },
  {
   "cell_type": "markdown",
   "metadata": {
    "id": "tTF0f0Uhfm-h"
   },
   "source": [
    "<p>\n",
    "Дані зазвичай збираються з різних джерел у різних форматах.</p>\n",
    "    \n",
    "<b>Що таке стандартизація?</b>\n",
    "<p>Стандартизація — це процес перетворення даних у загальний формат, що дозволяє досліднику робити значуще порівняння. (Стандартизація даних також є терміном для певного типу нормалізації даних, коли ми віднімаємо середнє значення та ділимо на стандартне відхилення.)\n",
    "</p>\n",
    "\n",
    "Приклад:  Перетворення mpg на л/100км.</p>\n",
    "<p>У нашому наборі даних стовпці споживання палива 'city-mpg' і 'highway-mpg' представлено в одиницях mpg (миль на галон). Припустімо, що розробляємо програму в країні, яка приймає стандарт споживання палива л/100 км.</p>\n",
    "<p>Потрібно буде застосувати <b>перетворення даних</b>, щоб перетворити милі на галон у л/100 км.</p>    \n"
   ]
  },
  {
   "cell_type": "markdown",
   "metadata": {
    "id": "nKyg6SL1fm-h"
   },
   "source": [
    "<p>Формула перетворення одиниць має вигляд:<p>\n",
    "L/100km = 235 / mpg\n",
    "<p>Ми можемо виконувати багато математичних операцій безпосередньо в Pandas.</p>\n"
   ]
  },
  {
   "cell_type": "code",
   "execution_count": null,
   "metadata": {
    "id": "8qPcbXoHfm-i"
   },
   "outputs": [],
   "source": [
    "df.head()"
   ]
  },
  {
   "cell_type": "code",
   "execution_count": null,
   "metadata": {
    "id": "sGIXKw76fm-i"
   },
   "outputs": [],
   "source": [
    "# перетворюємо mpg на л/100км за допомогою математичної операції (235 ділимо на mpg)\n",
    "df['city-L/100km'] = 235/df['city-mpg']\n",
    "\n",
    "# перевіряємо трансформовані дані\n",
    "df.head()"
   ]
  },
  {
   "cell_type": "markdown",
   "metadata": {
    "id": "sRRKDdoifm-i"
   },
   "source": [
    "<div class=\"alert alert-success alertsuccess\" style=\"margin-top: 20px\">\n",
    "<h2> Завдання  #2: </h2>\n",
    "\n",
    "<p>Відповідно до прикладу вище, перетворіть милі на галон на л/100 км у стовпці 'highway-mpg' і змініть назву стовпця на 'highway-L/100km'.</p>\n",
    "</div>\n"
   ]
  },
  {
   "cell_type": "code",
   "execution_count": null,
   "metadata": {
    "id": "zxuR7wOsfm-i"
   },
   "outputs": [],
   "source": [
    "# Напишіть ваш код нижче та натисніть Shift+Enter для виконання\n"
   ]
  },
  {
   "cell_type": "markdown",
   "metadata": {
    "id": "1l-taB2gfm-j"
   },
   "source": [
    "<details><summary>Натисніть тут, щоб побачити підказку</summary>\n",
    "\n",
    "```python\n",
    "# перетворюємо mpg на л/100км за допомогою математичної операції (235 ділимо на mpg)\n",
    "df[\"highway-mpg\"] = 235/df[\"highway-mpg\"]\n",
    "\n",
    "# змінюємо назву стовпчика з \"highway-mpg\" на \"highway-L/100km\"\n",
    "df.rename(columns={'\"highway-mpg\"':'highway-L/100km'}, inplace=True)\n",
    "\n",
    "# перевіряємо трансформовані дані\n",
    "df.head()\n",
    "\n",
    "```\n",
    "</details>\n",
    "\n",
    "\n"
   ]
  },
  {
   "cell_type": "markdown",
   "metadata": {
    "id": "8YYIFXYMkrMB"
   },
   "source": [
    "<a name=\"data_normalization\"></a>\n",
    "## <h2>Нормалізація даних</h2>"
   ]
  },
  {
   "cell_type": "markdown",
   "metadata": {
    "id": "mkKPWIaBfm-j"
   },
   "source": [
    "<b>Навіщо нормалізація?</b>\n",
    "<p>Нормалізація — це процес перетворення значень кількох змінних у подібний діапазон. Типові нормалізації включають масштабування змінної, щоб середнє значення змінної дорівнювало 0, масштабування змінної, щоб дисперсія дорівнювала 1, або масштабування змінної, щоб значення змінної змінювалися в межах від 0 до 1.\n",
    "</p>\n",
    "\n",
    "<b>Приклад</b>\n",
    "<p>Щоб продемонструвати нормалізацію, масштабуємо ознаки 'length', 'width' та 'height'.</p>\n",
    "<p><b>Ціль:</b> хочемо нормалізувати ці змінні, щоб їхні значення були в діапазоні від 0 до 1</p>\n",
    "<p><b>Підхід:</b> заміняємо вихідне значення на (первинне значення)/(максимальне значення)</p>\n"
   ]
  },
  {
   "cell_type": "code",
   "execution_count": null,
   "metadata": {
    "id": "jVTyg3wkfm-j"
   },
   "outputs": [],
   "source": [
    "# заміняємо вихідне значення на (первинне значення)/(максимальне значення)\n",
    "df['length'] = df['length']/df['length'].max()\n",
    "df['width'] = df['width']/df['width'].max()"
   ]
  },
  {
   "cell_type": "markdown",
   "metadata": {
    "id": "Hq3HO3i4fm-k"
   },
   "source": [
    "<div class=\"alert alert-success alertsuccess\" style=\"margin-top: 20px\">\n",
    "<h2> Завдання #3: </h2>\n",
    "\n",
    "<p>Спираючись на попередній приклад, нормалізуйте ознаку 'height'.</p>\n",
    "</div>\n"
   ]
  },
  {
   "cell_type": "code",
   "execution_count": null,
   "metadata": {
    "id": "R02aGQrkfm-k"
   },
   "outputs": [],
   "source": [
    "# Напишіть ваш код нижче та натисніть Shift+Enter для виконання\n"
   ]
  },
  {
   "cell_type": "markdown",
   "metadata": {
    "id": "tkiSWM4sfm-k"
   },
   "source": [
    "<details><summary>Натисніть тут, щоб побачити підказку</summary>\n",
    "\n",
    "```python\n",
    "df['height'] = df['height']/df['height'].max()\n",
    "\n",
    "# переглянемо нормалізовані ознаки\n",
    "df[[\"length\",\"width\",\"height\"]].head()\n",
    "\n",
    "\n",
    "```\n",
    "</details>\n",
    "\n",
    "\n"
   ]
  },
  {
   "cell_type": "markdown",
   "metadata": {
    "id": "lkbH4Tyefm-k"
   },
   "source": [
    "Бачимо, що нормалізували 'length', 'width' та 'height' в діапазоні [0,1]."
   ]
  },
  {
   "cell_type": "markdown",
   "metadata": {
    "id": "xnd5eQkkk1oA"
   },
   "source": [
    "<a name=\"binning\"></a>\n",
    "## <h2>Групування даних</h2>"
   ]
  },
  {
   "cell_type": "markdown",
   "metadata": {
    "id": "qPcMGBfKfm-k"
   },
   "source": [
    "<b>Навіщо групувати?</b>\n",
    "<p>\n",
    "    Групування — це процес перетворення неперервних числових змінних у дискретні категоріальні групи-\"bins\" для згрупованого аналізу.\n",
    "</p>\n",
    "\n",
    "<b>Приклад: </b>\n",
    "<p>В нашому датасеті 'horsepower' — це змінна з дійсними значенням у діапазоні від 48 до 288 і має 59 унікальних значень. Що, якщо нас цікавить лише різниця в ціні між автомобілями з високою, середньою та малою потужністю (3 типи)? Чи можемо ми зібрати їх у три групи-\"bins\", щоб спростити аналіз?</p>\n",
    "\n",
    "<p>Ми використаємо метод pandas <code>cut()</code>, щоб розділити стовпець 'horsepower' на 3 групи.</p>\n"
   ]
  },
  {
   "cell_type": "markdown",
   "metadata": {
    "id": "R8484rTxfm-l"
   },
   "source": [
    "<h3>Приклад групування даних Pandas</h3>\n"
   ]
  },
  {
   "cell_type": "markdown",
   "metadata": {
    "id": "9UN1HPQ2fm-l"
   },
   "source": [
    " Перетворимо дані в правильний формат:\n"
   ]
  },
  {
   "cell_type": "code",
   "execution_count": null,
   "metadata": {
    "id": "0NjkXjy_fm-l"
   },
   "outputs": [],
   "source": [
    "df['horsepower']=df['horsepower'].astype(int, copy=True)"
   ]
  },
  {
   "cell_type": "markdown",
   "metadata": {
    "id": "bQdsUWbNfm-l"
   },
   "source": [
    "Давайте побудуємо гістограму 'horsepower', щоб побачити, як виглядає розподіл."
   ]
  },
  {
   "cell_type": "code",
   "execution_count": null,
   "metadata": {
    "id": "P0i0sCrhfm-m"
   },
   "outputs": [],
   "source": [
    "%matplotlib inline\n",
    "import matplotlib as plt\n",
    "from matplotlib import pyplot\n",
    "plt.pyplot.hist(df['horsepower'])\n",
    "\n",
    "# вказуємо підписи осей x/y та заголовок діаграми\n",
    "plt.pyplot.xlabel(\"horsepower\")\n",
    "plt.pyplot.ylabel(\"count\")\n",
    "plt.pyplot.title(\"horsepower bins\")"
   ]
  },
  {
   "cell_type": "markdown",
   "metadata": {
    "id": "Za2OI19ofm-m"
   },
   "source": [
    "<p>Нам потрібні 3 групи однакового розміру, тому використовуємо функцію з numpy <code>linspace(start_value, end_value, numbers_generated</code>.</p>\n",
    "<p>Оскільки хочемо включити мінімальне значення 'horsepower', встановлюємо <code>start_value = min(df['horsepower'])</code>.</p>\n",
    "<p>Оскільки хочемо включити максимальне значення 'horsepower', встановлюємо <code>end_value = max(df['horsepower'])</code>.</p>\n",
    "<p>Оскільки будуємо 3 групи однакової довжини, має бути 4 розділювачі, отже <code>numbers_generated = 4</code>.</p>\n"
   ]
  },
  {
   "cell_type": "markdown",
   "metadata": {
    "id": "CBBFBU7zfm-o"
   },
   "source": [
    "Створюємо масив груп від мінімального до максимального значення, використовуючи параметри, вказані вище. Значення визначатимуть, коли закінчується одна група і починається інша."
   ]
  },
  {
   "cell_type": "code",
   "execution_count": null,
   "metadata": {
    "id": "Ychq_RUSfm-o"
   },
   "outputs": [],
   "source": [
    "bins = np.linspace(min(df['horsepower']), max(df['horsepower']), 4)\n",
    "bins"
   ]
  },
  {
   "cell_type": "markdown",
   "metadata": {
    "id": "LvAQWOs0fm-o"
   },
   "source": [
    " Задаємо назви груп:\n"
   ]
  },
  {
   "cell_type": "code",
   "execution_count": null,
   "metadata": {
    "id": "v_CqgXCifm-p"
   },
   "outputs": [],
   "source": [
    "group_names = [\"Low\", \"Medium\", \"High\"]"
   ]
  },
  {
   "cell_type": "markdown",
   "metadata": {
    "id": "pz12YJyCfm-q"
   },
   "source": [
    "Застосовуємо функцію <code>cut()</code>, щоб визначити, до якої групи належить кожне значення `df['horsepower']`."
   ]
  },
  {
   "cell_type": "code",
   "execution_count": null,
   "metadata": {
    "id": "B0ZR5Ukhfm-q"
   },
   "outputs": [],
   "source": [
    "df['horsepower-binned'] = pd.cut(df['horsepower'], bins, labels=group_names, include_lowest=True )\n",
    "df[['horsepower','horsepower-binned']].head(20)"
   ]
  },
  {
   "cell_type": "markdown",
   "metadata": {
    "id": "4oiXRpuSfm-q"
   },
   "source": [
    "Подивимося кількість транспортних засобів у кожній групі:\n"
   ]
  },
  {
   "cell_type": "code",
   "execution_count": null,
   "metadata": {
    "id": "iA6kK3iIfm-r"
   },
   "outputs": [],
   "source": [
    "df['horsepower-binned'].value_counts()"
   ]
  },
  {
   "cell_type": "markdown",
   "metadata": {
    "id": "4SN8ebAWfm-r"
   },
   "source": [
    "Побудуємо стовпчасту діаграму для порівняння кількості елементів в групах:\n"
   ]
  },
  {
   "cell_type": "code",
   "execution_count": null,
   "metadata": {
    "id": "3PCbt9gvfm-r"
   },
   "outputs": [],
   "source": [
    "%matplotlib inline\n",
    "import matplotlib as plt\n",
    "from matplotlib import pyplot\n",
    "pyplot.bar(group_names, df['horsepower-binned'].value_counts())\n",
    "\n",
    "# вказуємо підписи осей x/y та заголовок діаграми\n",
    "plt.pyplot.xlabel(\"horsepower\")\n",
    "plt.pyplot.ylabel(\"count\")\n",
    "plt.pyplot.title(\"horsepower bins\")"
   ]
  },
  {
   "cell_type": "markdown",
   "metadata": {
    "id": "EIVkShjUfm-r"
   },
   "source": [
    "<p>\n",
    "    Уважно подивіться на датафрейм вище. Ви побачите, що в останньому стовпчику наведено групи для 'horsepower' на основі 3 категорій (\"Low\", \"Medium\" та \"High\"). Ми успішно зменшили кількість інтервалів з 59 до 3.\n",
    "</p>\n"
   ]
  },
  {
   "cell_type": "markdown",
   "metadata": {
    "id": "EJ5tLl_Afm-s"
   },
   "source": [
    "<h3>Візуалізація груп</h3>\n",
    "Зазвичай для візуалізації розподілу груп використовується гістограма."
   ]
  },
  {
   "cell_type": "code",
   "execution_count": null,
   "metadata": {
    "id": "R3rTAwqYfm-s"
   },
   "outputs": [],
   "source": [
    "%matplotlib inline\n",
    "import matplotlib as plt\n",
    "from matplotlib import pyplot\n",
    "\n",
    "\n",
    "# будуємо гістограму для ознаки 'horsepower' з кількістю груп bins = 3\n",
    "plt.pyplot.hist(df['horsepower'], bins = 3)\n",
    "\n",
    "# вказуємо підписи осей x/y та заголовок діаграми\n",
    "plt.pyplot.xlabel(\"horsepower\")\n",
    "plt.pyplot.ylabel(\"count\")\n",
    "plt.pyplot.title(\"horsepower bins\")"
   ]
  },
  {
   "cell_type": "markdown",
   "metadata": {
    "id": "JVhb526yfm-s"
   },
   "source": [
    "Графік вище показує результат групування для ознаки 'horsepower'."
   ]
  },
  {
   "cell_type": "markdown",
   "metadata": {
    "id": "htdi2SbIlAxa"
   },
   "source": [
    "<a name=\"indicator\"></a>\n",
    "## <h2>Індикаторні змінні (Dummy Variable)</h2>"
   ]
  },
  {
   "cell_type": "markdown",
   "metadata": {
    "id": "VvbuLEUKfm-s"
   },
   "source": [
    "<b>Що таке індикаторна змінна?</b>\n",
    "<p>\n",
    "    Змінна-індикатор (або фіктивна змінна) — це числова змінна, яка використовується для позначення категорій. Їх називають \"dummies\" (фіктивними), тому що самі числа не мають внутрішнього значення.\n",
    "</p>\n",
    "\n",
    "<b>Чому використовуємо змінні-індикатори?</b>\n",
    "<p>\n",
    "    Змінні-індикатори потрібні, щоб можна було використовувати категоріальні змінні для регресійного аналізу.\n",
    "</p>\n",
    "\n",
    "<b>Приклад</b>\n",
    "<p>\n",
    "   Бачимо, що ознака 'fuel-type' має два унікальних значення: \"gas\" або \"diesel\". Регресія не розуміє слів, розуміє лише числа. Щоб використовувати цей атрибут у регресійному аналізі, перетворюємо 'fuel-type' на індикаторні змінні.\n",
    "</p>\n",
    "\n",
    "<p>\n",
    "    Ми будемо використовувати метод pandas <b>get_dummies()</b> для призначення числових значень різним категоріям типу палива.\n",
    "</p>\n"
   ]
  },
  {
   "cell_type": "code",
   "execution_count": null,
   "metadata": {
    "id": "Xi_eqmXmfm-t"
   },
   "outputs": [],
   "source": [
    "df.columns"
   ]
  },
  {
   "cell_type": "markdown",
   "metadata": {
    "id": "LDb5necHfm-t"
   },
   "source": [
    "Отримуємо індикаторні змінні та створюємо з них датафрейм \"dummy_variable_1\":"
   ]
  },
  {
   "cell_type": "code",
   "execution_count": null,
   "metadata": {
    "id": "SAC1BIGsfm-u"
   },
   "outputs": [],
   "source": [
    "dummy_variable_1 = pd.get_dummies(df['fuel-type'])\n",
    "dummy_variable_1.head()"
   ]
  },
  {
   "cell_type": "markdown",
   "metadata": {
    "id": "uA560dKDfm-u"
   },
   "source": [
    "Змінюємо назви стовпців для ясності:\n"
   ]
  },
  {
   "cell_type": "code",
   "execution_count": null,
   "metadata": {
    "id": "JlJTyH1Afm-u"
   },
   "outputs": [],
   "source": [
    "dummy_variable_1.rename(columns={'gas':'fuel-type-gas', 'diesel':'fuel-type-diesel'}, inplace=True)\n",
    "dummy_variable_1.head()"
   ]
  },
  {
   "cell_type": "markdown",
   "metadata": {
    "id": "GZb_PaIgfm-u"
   },
   "source": [
    "В датафреймі стовпець 'fuel-type' тепер має значення для \"gas\" і \"diesel\" як 0 і 1."
   ]
  },
  {
   "cell_type": "code",
   "execution_count": null,
   "metadata": {
    "id": "D80n62otfm-v"
   },
   "outputs": [],
   "source": [
    "# об'єднуємо датафрейми \"df\" та \"dummy_variable_1\"\n",
    "df = pd.concat([df, dummy_variable_1], axis=1)\n",
    "\n",
    "# видаляємо вихідну ознаку 'fuel-type' з \"df\"\n",
    "df.drop('fuel-type', axis = 1, inplace=True)"
   ]
  },
  {
   "cell_type": "code",
   "execution_count": null,
   "metadata": {
    "id": "yT2wUF7Dfm-v"
   },
   "outputs": [],
   "source": [
    "df.head()"
   ]
  },
  {
   "cell_type": "markdown",
   "metadata": {
    "id": "eSUKqaHffm-v"
   },
   "source": [
    "Останні два стовпці тепер представляють індикаторні змінні для ознаки 'fuel-type'. Зараз усі вони 0 і 1."
   ]
  },
  {
   "cell_type": "markdown",
   "metadata": {
    "id": "0Nq6eB93fm-v"
   },
   "source": [
    "<div class=\"alert alert-success alertsuccess\" style=\"margin-top: 20px\">\n",
    "<h2> Завдання  #4: </h2>\n",
    "\n",
    "<p>Спираючись на попередній приклад, створіть індикаторні змінні для ознаки 'aspiration'</p>\n",
    "</div>\n"
   ]
  },
  {
   "cell_type": "code",
   "execution_count": null,
   "metadata": {
    "id": "AZ0WLdZhfm-v"
   },
   "outputs": [],
   "source": [
    "# Напишіть ваш код нижче та натисніть Shift+Enter для виконання\n"
   ]
  },
  {
   "cell_type": "markdown",
   "metadata": {
    "id": "JBZeZZjCfm-w"
   },
   "source": [
    "<details><summary>Натисніть тут, щоб побачити підказку</summary>\n",
    "\n",
    "```python\n",
    "# отримати індикаторні змінні для aspiration та створити з них датафрейм \"dummy_variable_2\"\n",
    "dummy_variable_2 = pd.get_dummies(df['aspiration'])\n",
    "\n",
    "# змінити назви стовпців для ясності\n",
    "dummy_variable_2.rename(columns={'std':'aspiration-std', 'turbo': 'aspiration-turbo'}, inplace=True)\n",
    "\n",
    "# показати перші 5 екземплярів даних з датафрейму \"dummy_variable_2\"\n",
    "dummy_variable_2.head()\n",
    "\n",
    "\n",
    "```\n",
    "</details>\n",
    "\n",
    "\n"
   ]
  },
  {
   "cell_type": "markdown",
   "metadata": {
    "id": "KQMrANWwfm-w"
   },
   "source": [
    " <div class=\"alert alert-success alertsuccess\" style=\"margin-top: 20px\">\n",
    "<h2> Завдання  #5: </h2>\n",
    "\n",
    "<p>Об’єднайте новий датафрейм із вихідним датафреймом, а потім видаліть ознаку 'aspiration'.</p>\n",
    "</div>\n"
   ]
  },
  {
   "cell_type": "code",
   "execution_count": null,
   "metadata": {
    "id": "1GQ-MZD2fm-w"
   },
   "outputs": [],
   "source": [
    "# Напишіть ваш код нижче та натисніть Shift+Enter для виконання\n"
   ]
  },
  {
   "cell_type": "markdown",
   "metadata": {
    "id": "77EjUecffm-w"
   },
   "source": [
    "<details><summary>Натисніть тут, щоб побачити підказку</summary>\n",
    "\n",
    "```python\n",
    "# об'єднати датафрейми\n",
    "df = pd.concat([df, dummy_variable_2], axis=1)\n",
    "\n",
    "# видалити оригінальну ознаку \"aspiration\" з \"df\"\n",
    "df.drop('aspiration', axis = 1, inplace=True)\n",
    "\n",
    "\n",
    "```\n",
    "</details>\n",
    "\n",
    "\n"
   ]
  },
  {
   "cell_type": "markdown",
   "metadata": {
    "id": "YfByNuXWfm-x"
   },
   "source": [
    "Використайте метод <b>describe()</b> для відображення інформації про датафрейм. Переконайтесь, що вся попередня обробка даних завершена.\n"
   ]
  },
  {
   "cell_type": "code",
   "execution_count": null,
   "metadata": {
    "id": "4pX3i-BIfm-x"
   },
   "outputs": [],
   "source": [
    "df.describe()"
   ]
  },
  {
   "cell_type": "markdown",
   "metadata": {
    "id": "VOXX4q2Lfm-x"
   },
   "source": [
    "## <h2>Збереження даних</h2>\n",
    "<p>\n",
    "Pandas дозволяє нам зберігати набір даних у форматі CSV. Використовуючи метод <b>dataframe.to_csv()</b>, ви можете додати шлях до файлу та назву разом із лапками в дужках.\n",
    "</p>\n",
    "<p>\n",
    "Наприклад, якщо ви хочете зберегти фрейм даних \"df\" як \"auto1.csv\", можете використати наведений нижче синтаксис, де <code>index = False</code > означає, що назви рядків не будуть записані.\n",
    "</p>\n",
    "\n"
   ]
  },
  {
   "cell_type": "code",
   "execution_count": null,
   "metadata": {
    "id": "5c9xmYuqfm-y"
   },
   "outputs": [],
   "source": [
    "df.to_csv(\"auto1.csv\", index=False)"
   ]
  },
  {
   "cell_type": "markdown",
   "metadata": {
    "id": "6eE55Xbjfm-y"
   },
   "source": [
    "<h3>Read/Save інших форматів даних</h3>\n",
    "\n",
    "| Data Formate |        Read       |            Save |\n",
    "| ------------ | :---------------: | --------------: |\n",
    "| csv          |  `pd.read_csv()`  |   `df.to_csv()` |\n",
    "| json         |  `pd.read_json()` |  `df.to_json()` |\n",
    "| excel        | `pd.read_excel()` | `df.to_excel()` |\n",
    "| hdf          |  `pd.read_hdf()`  |   `df.to_hdf()` |\n",
    "| sql          |  `pd.read_sql()`  |   `df.to_sql()` |\n",
    "| ...          |        ...        |             ... |"
   ]
  },
  {
   "cell_type": "markdown",
   "metadata": {
    "id": "Vlhu6pzIhaRN"
   },
   "source": [
    "Якщо використовуєте Google Colaboratory, але хочете зберегти файл з даними на локальний комп'ютер, скористайтесь наступною командою"
   ]
  },
  {
   "cell_type": "code",
   "execution_count": null,
   "metadata": {
    "id": "gc0voi4EhtNU"
   },
   "outputs": [],
   "source": [
    "from google.colab import files\n",
    "\n",
    "files.download('auto1.csv')"
   ]
  },
  {
   "cell_type": "markdown",
   "metadata": {
    "id": "WIMdVYHRfm_B"
   },
   "source": [
    "*В теоретичній частині роботи використано елементи курсу \"Data Analysis with Python\" від IBM Corporation, автор\n",
    "<a href=\"https://www.linkedin.com/in/joseph-s-50398b136/?utm_medium=Exinfluencer&utm_source=Exinfluencer&utm_content=000026UJ&utm_term=10006555&utm_id=NA-SkillsNetwork-Channel-SkillsNetworkCoursesIBMDeveloperSkillsNetworkDA0101ENSkillsNetwork971-2022-01-01\" target=\"_blank\">Joseph Santarcangelo</a>*\n",
    "\n",
    "\n"
   ]
  }
 ],
 "metadata": {
  "colab": {
   "provenance": [],
   "toc_visible": true
  },
  "kernelspec": {
   "display_name": ".venv",
   "language": "python",
   "name": "python3"
  },
  "language_info": {
   "codemirror_mode": {
    "name": "ipython",
    "version": 3
   },
   "file_extension": ".py",
   "mimetype": "text/x-python",
   "name": "python",
   "nbconvert_exporter": "python",
   "pygments_lexer": "ipython3",
   "version": "3.13.2"
  }
 },
 "nbformat": 4,
 "nbformat_minor": 0
}
